{
 "cells": [
  {
   "cell_type": "markdown",
   "metadata": {},
   "source": [
    "### Import Libraries"
   ]
  },
  {
   "cell_type": "code",
   "execution_count": 18,
   "metadata": {},
   "outputs": [],
   "source": [
    "import pandas as pd\n",
    "import numpy as np\n",
    "\n",
    "import statistics as stats\n",
    "\n",
    "import pickle"
   ]
  },
  {
   "cell_type": "code",
   "execution_count": 19,
   "metadata": {},
   "outputs": [],
   "source": [
    "import nltk\n",
    "from nltk.stem import WordNetLemmatizer\n",
    "from nltk.corpus import stopwords\n",
    "from sklearn.feature_extraction.text import CountVectorizer\n",
    "from nltk.tokenize import word_tokenize\n",
    "from nltk.corpus import wordnet"
   ]
  },
  {
   "cell_type": "markdown",
   "metadata": {},
   "source": [
    "### Data Cleaning"
   ]
  },
  {
   "cell_type": "code",
   "execution_count": 20,
   "metadata": {},
   "outputs": [
    {
     "data": {
      "text/html": [
       "<div>\n",
       "<style scoped>\n",
       "    .dataframe tbody tr th:only-of-type {\n",
       "        vertical-align: middle;\n",
       "    }\n",
       "\n",
       "    .dataframe tbody tr th {\n",
       "        vertical-align: top;\n",
       "    }\n",
       "\n",
       "    .dataframe thead th {\n",
       "        text-align: right;\n",
       "    }\n",
       "</style>\n",
       "<table border=\"1\" class=\"dataframe\">\n",
       "  <thead>\n",
       "    <tr style=\"text-align: right;\">\n",
       "      <th></th>\n",
       "      <th>authors</th>\n",
       "      <th>bestsellers-rank</th>\n",
       "      <th>categories</th>\n",
       "      <th>description</th>\n",
       "      <th>dimension-x</th>\n",
       "      <th>dimension-y</th>\n",
       "      <th>dimension-z</th>\n",
       "      <th>edition</th>\n",
       "      <th>edition-statement</th>\n",
       "      <th>for-ages</th>\n",
       "      <th>...</th>\n",
       "      <th>isbn10</th>\n",
       "      <th>isbn13</th>\n",
       "      <th>lang</th>\n",
       "      <th>publication-date</th>\n",
       "      <th>publication-place</th>\n",
       "      <th>rating-avg</th>\n",
       "      <th>rating-count</th>\n",
       "      <th>title</th>\n",
       "      <th>url</th>\n",
       "      <th>weight</th>\n",
       "    </tr>\n",
       "  </thead>\n",
       "  <tbody>\n",
       "    <tr>\n",
       "      <th>0</th>\n",
       "      <td>[1]</td>\n",
       "      <td>49848.0</td>\n",
       "      <td>[214, 220, 237, 2646, 2647, 2659, 2660, 2679]</td>\n",
       "      <td>SOLDIER FIVE is an elite soldier's explosive m...</td>\n",
       "      <td>129.0</td>\n",
       "      <td>198.0</td>\n",
       "      <td>20.0</td>\n",
       "      <td>NaN</td>\n",
       "      <td>NaN</td>\n",
       "      <td>NaN</td>\n",
       "      <td>...</td>\n",
       "      <td>184018907X</td>\n",
       "      <td>9781840189070</td>\n",
       "      <td>en</td>\n",
       "      <td>2004-10-14 00:00:00</td>\n",
       "      <td>NaN</td>\n",
       "      <td>4.03</td>\n",
       "      <td>292.0</td>\n",
       "      <td>Soldier Five : The Real Truth About The Bravo ...</td>\n",
       "      <td>/Soldier-Five-Mike-Coburn/9781840189070</td>\n",
       "      <td>224.00</td>\n",
       "    </tr>\n",
       "    <tr>\n",
       "      <th>1</th>\n",
       "      <td>[2, 3]</td>\n",
       "      <td>115215.0</td>\n",
       "      <td>[235, 3386]</td>\n",
       "      <td>John Moran and Carl Williams were the two bigg...</td>\n",
       "      <td>127.0</td>\n",
       "      <td>203.2</td>\n",
       "      <td>25.4</td>\n",
       "      <td>NaN</td>\n",
       "      <td>NaN</td>\n",
       "      <td>NaN</td>\n",
       "      <td>...</td>\n",
       "      <td>184454737X</td>\n",
       "      <td>9781844547371</td>\n",
       "      <td>en</td>\n",
       "      <td>2009-03-13 00:00:00</td>\n",
       "      <td>NaN</td>\n",
       "      <td>3.60</td>\n",
       "      <td>335.0</td>\n",
       "      <td>Underbelly : The Gangland War</td>\n",
       "      <td>/Underbelly-Andrew-Rule/9781844547371</td>\n",
       "      <td>285.76</td>\n",
       "    </tr>\n",
       "  </tbody>\n",
       "</table>\n",
       "<p>2 rows × 28 columns</p>\n",
       "</div>"
      ],
      "text/plain": [
       "  authors  bestsellers-rank                                     categories  \\\n",
       "0     [1]           49848.0  [214, 220, 237, 2646, 2647, 2659, 2660, 2679]   \n",
       "1  [2, 3]          115215.0                                    [235, 3386]   \n",
       "\n",
       "                                         description  dimension-x  \\\n",
       "0  SOLDIER FIVE is an elite soldier's explosive m...        129.0   \n",
       "1  John Moran and Carl Williams were the two bigg...        127.0   \n",
       "\n",
       "   dimension-y  dimension-z edition edition-statement for-ages  ...  \\\n",
       "0        198.0         20.0     NaN               NaN      NaN  ...   \n",
       "1        203.2         25.4     NaN               NaN      NaN  ...   \n",
       "\n",
       "       isbn10         isbn13 lang     publication-date publication-place  \\\n",
       "0  184018907X  9781840189070   en  2004-10-14 00:00:00               NaN   \n",
       "1  184454737X  9781844547371   en  2009-03-13 00:00:00               NaN   \n",
       "\n",
       "  rating-avg rating-count                                              title  \\\n",
       "0       4.03        292.0  Soldier Five : The Real Truth About The Bravo ...   \n",
       "1       3.60        335.0                      Underbelly : The Gangland War   \n",
       "\n",
       "                                       url  weight  \n",
       "0  /Soldier-Five-Mike-Coburn/9781840189070  224.00  \n",
       "1    /Underbelly-Andrew-Rule/9781844547371  285.76  \n",
       "\n",
       "[2 rows x 28 columns]"
      ]
     },
     "execution_count": 20,
     "metadata": {},
     "output_type": "execute_result"
    }
   ],
   "source": [
    "books = pd.read_csv(\"dataset.csv\")\n",
    "books.head(2)"
   ]
  },
  {
   "cell_type": "code",
   "execution_count": 21,
   "metadata": {},
   "outputs": [
    {
     "data": {
      "text/plain": [
       "(1109383, 28)"
      ]
     },
     "execution_count": 21,
     "metadata": {},
     "output_type": "execute_result"
    }
   ],
   "source": [
    "books.shape"
   ]
  },
  {
   "cell_type": "code",
   "execution_count": 22,
   "metadata": {},
   "outputs": [
    {
     "data": {
      "text/plain": [
       "Index(['authors', 'bestsellers-rank', 'categories', 'description',\n",
       "       'dimension-x', 'dimension-y', 'dimension-z', 'edition',\n",
       "       'edition-statement', 'for-ages', 'format', 'id', 'illustrations-note',\n",
       "       'image-checksum', 'image-path', 'image-url', 'imprint', 'index-date',\n",
       "       'isbn10', 'isbn13', 'lang', 'publication-date', 'publication-place',\n",
       "       'rating-avg', 'rating-count', 'title', 'url', 'weight'],\n",
       "      dtype='object')"
      ]
     },
     "execution_count": 22,
     "metadata": {},
     "output_type": "execute_result"
    }
   ],
   "source": [
    "books.columns"
   ]
  },
  {
   "cell_type": "code",
   "execution_count": 23,
   "metadata": {},
   "outputs": [
    {
     "data": {
      "text/plain": [
       "authors                     0\n",
       "bestsellers-rank       466842\n",
       "categories                  0\n",
       "description             80087\n",
       "dimension-x             48227\n",
       "dimension-y             93531\n",
       "dimension-z             48227\n",
       "edition                926569\n",
       "edition-statement      747261\n",
       "for-ages              1033390\n",
       "format                   6622\n",
       "id                          0\n",
       "illustrations-note     752907\n",
       "image-checksum             27\n",
       "image-path                 27\n",
       "image-url                  27\n",
       "imprint                830049\n",
       "index-date            1109383\n",
       "isbn10                      0\n",
       "isbn13                      0\n",
       "lang                    60407\n",
       "publication-date         2603\n",
       "publication-place     1109383\n",
       "rating-avg             440130\n",
       "rating-count           440130\n",
       "title                       0\n",
       "url                         0\n",
       "weight                  87173\n",
       "dtype: int64"
      ]
     },
     "execution_count": 23,
     "metadata": {},
     "output_type": "execute_result"
    }
   ],
   "source": [
    "#check mising values\n",
    "\n",
    "books.isna().sum()"
   ]
  },
  {
   "cell_type": "code",
   "execution_count": 24,
   "metadata": {},
   "outputs": [],
   "source": [
    "# drop unecessary columns (too many na or not important information)\n",
    "\n",
    "columns_drop = [\"dimension-x\", \"dimension-y\", \"dimension-z\", \"bestsellers-rank\", \"edition\", \n",
    "                \"edition-statement\", \"for-ages\", \"illustrations-note\", \"imprint\", \"index-date\", \n",
    "                \"publication-place\", \"rating-avg\", \"rating-count\", \"weight\"]\n",
    "\n",
    "books = books.drop(columns=columns_drop)"
   ]
  },
  {
   "cell_type": "code",
   "execution_count": 25,
   "metadata": {},
   "outputs": [],
   "source": [
    "# drop row if description is na --> description is crucial\n",
    "\n",
    "books = books[books['description'].notna()]"
   ]
  },
  {
   "cell_type": "code",
   "execution_count": 26,
   "metadata": {},
   "outputs": [
    {
     "data": {
      "text/plain": [
       "en     952244\n",
       "es      23345\n",
       "de      15628\n",
       "fr       6643\n",
       "pl       2901\n",
       "        ...  \n",
       "ae          1\n",
       "lad         1\n",
       "dak         1\n",
       "ug          1\n",
       "rm          1\n",
       "Name: lang, Length: 155, dtype: int64"
      ]
     },
     "execution_count": 26,
     "metadata": {},
     "output_type": "execute_result"
    }
   ],
   "source": [
    "books[\"lang\"].value_counts()"
   ]
  },
  {
   "cell_type": "code",
   "execution_count": 27,
   "metadata": {},
   "outputs": [],
   "source": [
    "# only keep English books\n",
    "\n",
    "books = books[books[\"lang\"] == \"en\"]"
   ]
  },
  {
   "cell_type": "code",
   "execution_count": 28,
   "metadata": {},
   "outputs": [
    {
     "data": {
      "text/plain": [
       "(952244, 14)"
      ]
     },
     "execution_count": 28,
     "metadata": {},
     "output_type": "execute_result"
    }
   ],
   "source": [
    "books.shape"
   ]
  },
  {
   "cell_type": "code",
   "execution_count": 29,
   "metadata": {},
   "outputs": [],
   "source": [
    "# combine title and description for complete analysis of text in nlp\n",
    "\n",
    "books[\"text\"] = books[\"title\"] + \" \" + books[\"description\"]"
   ]
  },
  {
   "cell_type": "code",
   "execution_count": 30,
   "metadata": {},
   "outputs": [
    {
     "data": {
      "text/plain": [
       "authors              object\n",
       "categories           object\n",
       "description          object\n",
       "format              float64\n",
       "id                    int64\n",
       "image-checksum       object\n",
       "image-path           object\n",
       "image-url            object\n",
       "isbn10               object\n",
       "isbn13                int64\n",
       "lang                 object\n",
       "publication-date     object\n",
       "title                object\n",
       "url                  object\n",
       "text                 object\n",
       "dtype: object"
      ]
     },
     "execution_count": 30,
     "metadata": {},
     "output_type": "execute_result"
    }
   ],
   "source": [
    "books.dtypes\n",
    "\n",
    "# should authors and categories be other type?\n",
    "\n",
    "# publication date as datetime"
   ]
  },
  {
   "cell_type": "code",
   "execution_count": 31,
   "metadata": {},
   "outputs": [],
   "source": [
    "books['publication-date'] = pd.to_datetime(books['publication-date'])\n"
   ]
  },
  {
   "cell_type": "code",
   "execution_count": 32,
   "metadata": {},
   "outputs": [
    {
     "data": {
      "text/html": [
       "<div>\n",
       "<style scoped>\n",
       "    .dataframe tbody tr th:only-of-type {\n",
       "        vertical-align: middle;\n",
       "    }\n",
       "\n",
       "    .dataframe tbody tr th {\n",
       "        vertical-align: top;\n",
       "    }\n",
       "\n",
       "    .dataframe thead th {\n",
       "        text-align: right;\n",
       "    }\n",
       "</style>\n",
       "<table border=\"1\" class=\"dataframe\">\n",
       "  <thead>\n",
       "    <tr style=\"text-align: right;\">\n",
       "      <th></th>\n",
       "      <th>authors</th>\n",
       "      <th>categories</th>\n",
       "      <th>description</th>\n",
       "      <th>format</th>\n",
       "      <th>id</th>\n",
       "      <th>image-checksum</th>\n",
       "      <th>image-path</th>\n",
       "      <th>image-url</th>\n",
       "      <th>isbn10</th>\n",
       "      <th>isbn13</th>\n",
       "      <th>lang</th>\n",
       "      <th>publication-date</th>\n",
       "      <th>title</th>\n",
       "      <th>url</th>\n",
       "      <th>text</th>\n",
       "    </tr>\n",
       "  </thead>\n",
       "  <tbody>\n",
       "    <tr>\n",
       "      <th>0</th>\n",
       "      <td>[1]</td>\n",
       "      <td>[214, 220, 237, 2646, 2647, 2659, 2660, 2679]</td>\n",
       "      <td>SOLDIER FIVE is an elite soldier's explosive m...</td>\n",
       "      <td>1.0</td>\n",
       "      <td>9781840189070</td>\n",
       "      <td>97c8e71f2ec114b34f243074d2091077</td>\n",
       "      <td>full/c/5/2/c529152ea1246c0cb17d6574d302eae6d2e...</td>\n",
       "      <td>https://d1w7fb2mkkr3kw.cloudfront.net/assets/i...</td>\n",
       "      <td>184018907X</td>\n",
       "      <td>9781840189070</td>\n",
       "      <td>en</td>\n",
       "      <td>2004-10-14</td>\n",
       "      <td>Soldier Five : The Real Truth About The Bravo ...</td>\n",
       "      <td>/Soldier-Five-Mike-Coburn/9781840189070</td>\n",
       "      <td>Soldier Five : The Real Truth About The Bravo ...</td>\n",
       "    </tr>\n",
       "    <tr>\n",
       "      <th>1</th>\n",
       "      <td>[2, 3]</td>\n",
       "      <td>[235, 3386]</td>\n",
       "      <td>John Moran and Carl Williams were the two bigg...</td>\n",
       "      <td>1.0</td>\n",
       "      <td>9781844547371</td>\n",
       "      <td>1dc4e79575474ac775cdfe9840bdfb94</td>\n",
       "      <td>full/5/9/8/598ae8f736c99bc423352887d406d2b2f94...</td>\n",
       "      <td>https://d1w7fb2mkkr3kw.cloudfront.net/assets/i...</td>\n",
       "      <td>184454737X</td>\n",
       "      <td>9781844547371</td>\n",
       "      <td>en</td>\n",
       "      <td>2009-03-13</td>\n",
       "      <td>Underbelly : The Gangland War</td>\n",
       "      <td>/Underbelly-Andrew-Rule/9781844547371</td>\n",
       "      <td>Underbelly : The Gangland War John Moran and C...</td>\n",
       "    </tr>\n",
       "    <tr>\n",
       "      <th>3</th>\n",
       "      <td>[5, 6, 7, 8]</td>\n",
       "      <td>[377, 2978, 2980]</td>\n",
       "      <td>The Third Book of General Ignorance  gathers t...</td>\n",
       "      <td>1.0</td>\n",
       "      <td>9780571308996</td>\n",
       "      <td>bc593914f06e1021be9977114ea2a28f</td>\n",
       "      <td>full/1/a/f/1af9cad94dfe897b4423993c78b137bee40...</td>\n",
       "      <td>https://d1w7fb2mkkr3kw.cloudfront.net/assets/i...</td>\n",
       "      <td>571308996</td>\n",
       "      <td>9780571308996</td>\n",
       "      <td>en</td>\n",
       "      <td>2015-10-01</td>\n",
       "      <td>QI: The Third Book of General Ignorance</td>\n",
       "      <td>/QI-Third-Book-General-Ignorance-John-Lloyd/97...</td>\n",
       "      <td>QI: The Third Book of General Ignorance The Th...</td>\n",
       "    </tr>\n",
       "    <tr>\n",
       "      <th>4</th>\n",
       "      <td>[9]</td>\n",
       "      <td>[2813, 2980]</td>\n",
       "      <td>The Try Guys deliver their first book-an inspi...</td>\n",
       "      <td>2.0</td>\n",
       "      <td>9780008352516</td>\n",
       "      <td>39c0422c00be90fb9258dd6df9068b1e</td>\n",
       "      <td>full/e/e/a/eea0ff6b6f1882d1862c711a2008e3c35d3...</td>\n",
       "      <td>https://d1w7fb2mkkr3kw.cloudfront.net/assets/i...</td>\n",
       "      <td>8352518</td>\n",
       "      <td>9780008352516</td>\n",
       "      <td>en</td>\n",
       "      <td>2019-06-18</td>\n",
       "      <td>The Hidden Power of F*cking Up</td>\n",
       "      <td>/Hidden-Power-F-cking-Up-Try-Guys/9780008352516</td>\n",
       "      <td>The Hidden Power of F*cking Up The Try Guys de...</td>\n",
       "    </tr>\n",
       "    <tr>\n",
       "      <th>5</th>\n",
       "      <td>[10, 11]</td>\n",
       "      <td>[1520, 1532]</td>\n",
       "      <td>When and how did the universe begin? Why are w...</td>\n",
       "      <td>1.0</td>\n",
       "      <td>9780553819229</td>\n",
       "      <td>bed4d5ee9d3240303ff355e4e383cb47</td>\n",
       "      <td>full/0/a/1/0a1870d010b9ad272d5b20425b56e449eac...</td>\n",
       "      <td>https://d1w7fb2mkkr3kw.cloudfront.net/assets/i...</td>\n",
       "      <td>553819224</td>\n",
       "      <td>9780553819229</td>\n",
       "      <td>en</td>\n",
       "      <td>2015-03-18</td>\n",
       "      <td>The Grand Design</td>\n",
       "      <td>/Grand-Design-Leonard-Mlodinow/9780553819229</td>\n",
       "      <td>The Grand Design When and how did the universe...</td>\n",
       "    </tr>\n",
       "  </tbody>\n",
       "</table>\n",
       "</div>"
      ],
      "text/plain": [
       "        authors                                     categories  \\\n",
       "0           [1]  [214, 220, 237, 2646, 2647, 2659, 2660, 2679]   \n",
       "1        [2, 3]                                    [235, 3386]   \n",
       "3  [5, 6, 7, 8]                              [377, 2978, 2980]   \n",
       "4           [9]                                   [2813, 2980]   \n",
       "5      [10, 11]                                   [1520, 1532]   \n",
       "\n",
       "                                         description  format             id  \\\n",
       "0  SOLDIER FIVE is an elite soldier's explosive m...     1.0  9781840189070   \n",
       "1  John Moran and Carl Williams were the two bigg...     1.0  9781844547371   \n",
       "3  The Third Book of General Ignorance  gathers t...     1.0  9780571308996   \n",
       "4  The Try Guys deliver their first book-an inspi...     2.0  9780008352516   \n",
       "5  When and how did the universe begin? Why are w...     1.0  9780553819229   \n",
       "\n",
       "                     image-checksum  \\\n",
       "0  97c8e71f2ec114b34f243074d2091077   \n",
       "1  1dc4e79575474ac775cdfe9840bdfb94   \n",
       "3  bc593914f06e1021be9977114ea2a28f   \n",
       "4  39c0422c00be90fb9258dd6df9068b1e   \n",
       "5  bed4d5ee9d3240303ff355e4e383cb47   \n",
       "\n",
       "                                          image-path  \\\n",
       "0  full/c/5/2/c529152ea1246c0cb17d6574d302eae6d2e...   \n",
       "1  full/5/9/8/598ae8f736c99bc423352887d406d2b2f94...   \n",
       "3  full/1/a/f/1af9cad94dfe897b4423993c78b137bee40...   \n",
       "4  full/e/e/a/eea0ff6b6f1882d1862c711a2008e3c35d3...   \n",
       "5  full/0/a/1/0a1870d010b9ad272d5b20425b56e449eac...   \n",
       "\n",
       "                                           image-url      isbn10  \\\n",
       "0  https://d1w7fb2mkkr3kw.cloudfront.net/assets/i...  184018907X   \n",
       "1  https://d1w7fb2mkkr3kw.cloudfront.net/assets/i...  184454737X   \n",
       "3  https://d1w7fb2mkkr3kw.cloudfront.net/assets/i...   571308996   \n",
       "4  https://d1w7fb2mkkr3kw.cloudfront.net/assets/i...     8352518   \n",
       "5  https://d1w7fb2mkkr3kw.cloudfront.net/assets/i...   553819224   \n",
       "\n",
       "          isbn13 lang publication-date  \\\n",
       "0  9781840189070   en       2004-10-14   \n",
       "1  9781844547371   en       2009-03-13   \n",
       "3  9780571308996   en       2015-10-01   \n",
       "4  9780008352516   en       2019-06-18   \n",
       "5  9780553819229   en       2015-03-18   \n",
       "\n",
       "                                               title  \\\n",
       "0  Soldier Five : The Real Truth About The Bravo ...   \n",
       "1                      Underbelly : The Gangland War   \n",
       "3            QI: The Third Book of General Ignorance   \n",
       "4                     The Hidden Power of F*cking Up   \n",
       "5                                   The Grand Design   \n",
       "\n",
       "                                                 url  \\\n",
       "0            /Soldier-Five-Mike-Coburn/9781840189070   \n",
       "1              /Underbelly-Andrew-Rule/9781844547371   \n",
       "3  /QI-Third-Book-General-Ignorance-John-Lloyd/97...   \n",
       "4    /Hidden-Power-F-cking-Up-Try-Guys/9780008352516   \n",
       "5       /Grand-Design-Leonard-Mlodinow/9780553819229   \n",
       "\n",
       "                                                text  \n",
       "0  Soldier Five : The Real Truth About The Bravo ...  \n",
       "1  Underbelly : The Gangland War John Moran and C...  \n",
       "3  QI: The Third Book of General Ignorance The Th...  \n",
       "4  The Hidden Power of F*cking Up The Try Guys de...  \n",
       "5  The Grand Design When and how did the universe...  "
      ]
     },
     "execution_count": 32,
     "metadata": {},
     "output_type": "execute_result"
    }
   ],
   "source": [
    "books.head()"
   ]
  },
  {
   "cell_type": "markdown",
   "metadata": {},
   "source": [
    "### transform categories"
   ]
  },
  {
   "cell_type": "code",
   "execution_count": 33,
   "metadata": {},
   "outputs": [],
   "source": [
    "genre = pd.read_csv(\"genres.csv\")\n",
    "genre = genre.drop(columns=\"Unnamed: 0\")"
   ]
  },
  {
   "cell_type": "code",
   "execution_count": 34,
   "metadata": {},
   "outputs": [],
   "source": [
    "genre_without_other = genre[genre[\"genre\"]!= \"Other\"]"
   ]
  },
  {
   "cell_type": "code",
   "execution_count": 35,
   "metadata": {},
   "outputs": [
    {
     "data": {
      "text/html": [
       "<div>\n",
       "<style scoped>\n",
       "    .dataframe tbody tr th:only-of-type {\n",
       "        vertical-align: middle;\n",
       "    }\n",
       "\n",
       "    .dataframe tbody tr th {\n",
       "        vertical-align: top;\n",
       "    }\n",
       "\n",
       "    .dataframe thead th {\n",
       "        text-align: right;\n",
       "    }\n",
       "</style>\n",
       "<table border=\"1\" class=\"dataframe\">\n",
       "  <thead>\n",
       "    <tr style=\"text-align: right;\">\n",
       "      <th></th>\n",
       "      <th>category_id</th>\n",
       "      <th>category_name</th>\n",
       "      <th>class</th>\n",
       "      <th>class2</th>\n",
       "      <th>genre</th>\n",
       "    </tr>\n",
       "  </thead>\n",
       "  <tbody>\n",
       "    <tr>\n",
       "      <th>0</th>\n",
       "      <td>1998</td>\n",
       "      <td>.Net Programming</td>\n",
       "      <td>6</td>\n",
       "      <td>3.0</td>\n",
       "      <td>Engineering &amp; Programming</td>\n",
       "    </tr>\n",
       "    <tr>\n",
       "      <th>1</th>\n",
       "      <td>176</td>\n",
       "      <td>20th Century &amp; Contemporary Classical Music</td>\n",
       "      <td>6</td>\n",
       "      <td>4.0</td>\n",
       "      <td>Arts &amp; Music</td>\n",
       "    </tr>\n",
       "    <tr>\n",
       "      <th>2</th>\n",
       "      <td>3291</td>\n",
       "      <td>20th Century &amp; Contemporary Classical Music</td>\n",
       "      <td>6</td>\n",
       "      <td>4.0</td>\n",
       "      <td>Arts &amp; Music</td>\n",
       "    </tr>\n",
       "    <tr>\n",
       "      <th>5</th>\n",
       "      <td>1992</td>\n",
       "      <td>2D Graphics: Games Programming</td>\n",
       "      <td>6</td>\n",
       "      <td>3.0</td>\n",
       "      <td>Engineering &amp; Programming</td>\n",
       "    </tr>\n",
       "    <tr>\n",
       "      <th>7</th>\n",
       "      <td>1993</td>\n",
       "      <td>3D Graphics: Games Programming</td>\n",
       "      <td>6</td>\n",
       "      <td>3.0</td>\n",
       "      <td>Engineering &amp; Programming</td>\n",
       "    </tr>\n",
       "    <tr>\n",
       "      <th>...</th>\n",
       "      <td>...</td>\n",
       "      <td>...</td>\n",
       "      <td>...</td>\n",
       "      <td>...</td>\n",
       "      <td>...</td>\n",
       "    </tr>\n",
       "    <tr>\n",
       "      <th>2739</th>\n",
       "      <td>1999</td>\n",
       "      <td>Windows Programming</td>\n",
       "      <td>6</td>\n",
       "      <td>3.0</td>\n",
       "      <td>Engineering &amp; Programming</td>\n",
       "    </tr>\n",
       "    <tr>\n",
       "      <th>2755</th>\n",
       "      <td>196</td>\n",
       "      <td>World Music</td>\n",
       "      <td>6</td>\n",
       "      <td>4.0</td>\n",
       "      <td>Arts &amp; Music</td>\n",
       "    </tr>\n",
       "    <tr>\n",
       "      <th>2756</th>\n",
       "      <td>3311</td>\n",
       "      <td>World Music</td>\n",
       "      <td>6</td>\n",
       "      <td>4.0</td>\n",
       "      <td>Arts &amp; Music</td>\n",
       "    </tr>\n",
       "    <tr>\n",
       "      <th>2758</th>\n",
       "      <td>346</td>\n",
       "      <td>World War 1 Fiction</td>\n",
       "      <td>6</td>\n",
       "      <td>8.0</td>\n",
       "      <td>NaN</td>\n",
       "    </tr>\n",
       "    <tr>\n",
       "      <th>2760</th>\n",
       "      <td>347</td>\n",
       "      <td>World War 2 Fiction</td>\n",
       "      <td>6</td>\n",
       "      <td>8.0</td>\n",
       "      <td>NaN</td>\n",
       "    </tr>\n",
       "  </tbody>\n",
       "</table>\n",
       "<p>637 rows × 5 columns</p>\n",
       "</div>"
      ],
      "text/plain": [
       "      category_id                                category_name  class  class2  \\\n",
       "0            1998                             .Net Programming      6     3.0   \n",
       "1             176  20th Century & Contemporary Classical Music      6     4.0   \n",
       "2            3291  20th Century & Contemporary Classical Music      6     4.0   \n",
       "5            1992               2D Graphics: Games Programming      6     3.0   \n",
       "7            1993               3D Graphics: Games Programming      6     3.0   \n",
       "...           ...                                          ...    ...     ...   \n",
       "2739         1999                          Windows Programming      6     3.0   \n",
       "2755          196                                  World Music      6     4.0   \n",
       "2756         3311                                  World Music      6     4.0   \n",
       "2758          346                          World War 1 Fiction      6     8.0   \n",
       "2760          347                          World War 2 Fiction      6     8.0   \n",
       "\n",
       "                          genre  \n",
       "0     Engineering & Programming  \n",
       "1                  Arts & Music  \n",
       "2                  Arts & Music  \n",
       "5     Engineering & Programming  \n",
       "7     Engineering & Programming  \n",
       "...                         ...  \n",
       "2739  Engineering & Programming  \n",
       "2755               Arts & Music  \n",
       "2756               Arts & Music  \n",
       "2758                        NaN  \n",
       "2760                        NaN  \n",
       "\n",
       "[637 rows x 5 columns]"
      ]
     },
     "execution_count": 35,
     "metadata": {},
     "output_type": "execute_result"
    }
   ],
   "source": [
    "genre_without_other"
   ]
  },
  {
   "cell_type": "code",
   "execution_count": 36,
   "metadata": {},
   "outputs": [],
   "source": [
    "# function to translate books[\"categories\"] into genre of book, igrnoring \"Other\""
   ]
  },
  {
   "cell_type": "code",
   "execution_count": 37,
   "metadata": {},
   "outputs": [
    {
     "data": {
      "text/plain": [
       "[1998,\n",
       " 176,\n",
       " 3291,\n",
       " 1992,\n",
       " 1993,\n",
       " 1379,\n",
       " 1229,\n",
       " 963,\n",
       " 1856,\n",
       " 2491,\n",
       " 1089,\n",
       " 1213,\n",
       " 1063,\n",
       " 1172,\n",
       " 1987,\n",
       " 1878,\n",
       " 1215,\n",
       " 1035,\n",
       " 1045,\n",
       " 197,\n",
       " 3312,\n",
       " 1216,\n",
       " 76,\n",
       " 1054,\n",
       " 921,\n",
       " 2509,\n",
       " 2554,\n",
       " 41,\n",
       " 2,\n",
       " 7,\n",
       " 42,\n",
       " 8,\n",
       " 15,\n",
       " 16,\n",
       " 37,\n",
       " 14,\n",
       " 18,\n",
       " 17,\n",
       " 20,\n",
       " 23,\n",
       " 29,\n",
       " 30,\n",
       " 5,\n",
       " 80,\n",
       " 4,\n",
       " 68,\n",
       " 1988,\n",
       " 1179,\n",
       " 219,\n",
       " 217,\n",
       " 229,\n",
       " 1799,\n",
       " 1843,\n",
       " 1391,\n",
       " 1166,\n",
       " 1058,\n",
       " 1614,\n",
       " 976,\n",
       " 1230,\n",
       " 173,\n",
       " 3288,\n",
       " 3156,\n",
       " 3152,\n",
       " 1721,\n",
       " 218,\n",
       " 216,\n",
       " 228,\n",
       " 1446,\n",
       " 1053,\n",
       " 692,\n",
       " 67,\n",
       " 77,\n",
       " 182,\n",
       " 3297,\n",
       " 1828,\n",
       " 793,\n",
       " 3338,\n",
       " 977,\n",
       " 979,\n",
       " 1917,\n",
       " 1005,\n",
       " 983,\n",
       " 984,\n",
       " 981,\n",
       " 1006,\n",
       " 1004,\n",
       " 980,\n",
       " 2585,\n",
       " 978,\n",
       " 3102,\n",
       " 928,\n",
       " 1232,\n",
       " 1339,\n",
       " 1276,\n",
       " 737,\n",
       " 1253,\n",
       " 1727,\n",
       " 1048,\n",
       " 2488,\n",
       " 307,\n",
       " 2838,\n",
       " 177,\n",
       " 3292,\n",
       " 1080,\n",
       " 1177,\n",
       " 1102,\n",
       " 1810,\n",
       " 1154,\n",
       " 353,\n",
       " 2627,\n",
       " 174,\n",
       " 3289,\n",
       " 1324,\n",
       " 1040,\n",
       " 13,\n",
       " 1160,\n",
       " 1101,\n",
       " 409,\n",
       " 2716,\n",
       " 1802,\n",
       " 1167,\n",
       " 1159,\n",
       " 1106,\n",
       " 1170,\n",
       " 1456,\n",
       " 1475,\n",
       " 1983,\n",
       " 1243,\n",
       " 1176,\n",
       " 1174,\n",
       " 1065,\n",
       " 1066,\n",
       " 987,\n",
       " 1263,\n",
       " 334,\n",
       " 1171,\n",
       " 1248,\n",
       " 1239,\n",
       " 742,\n",
       " 186,\n",
       " 3301,\n",
       " 1442,\n",
       " 336,\n",
       " 736,\n",
       " 2617,\n",
       " 1191,\n",
       " 1190,\n",
       " 1203,\n",
       " 634,\n",
       " 1120,\n",
       " 148,\n",
       " 3263,\n",
       " 1237,\n",
       " 2003,\n",
       " 62,\n",
       " 1211,\n",
       " 902,\n",
       " 1242,\n",
       " 411,\n",
       " 2718,\n",
       " 2590,\n",
       " 1911,\n",
       " 1945,\n",
       " 1121,\n",
       " 1261,\n",
       " 1206,\n",
       " 1068,\n",
       " 1392,\n",
       " 934,\n",
       " 2748,\n",
       " 740,\n",
       " 1162,\n",
       " 982,\n",
       " 318,\n",
       " 321,\n",
       " 329,\n",
       " 310,\n",
       " 171,\n",
       " 3286,\n",
       " 1815,\n",
       " 188,\n",
       " 3303,\n",
       " 1105,\n",
       " 1254,\n",
       " 787,\n",
       " 3332,\n",
       " 1188,\n",
       " 1784,\n",
       " 1042,\n",
       " 57,\n",
       " 195,\n",
       " 3310,\n",
       " 1792,\n",
       " 1793,\n",
       " 1205,\n",
       " 1175,\n",
       " 1039,\n",
       " 1777,\n",
       " 1713,\n",
       " 1716,\n",
       " 1774,\n",
       " 1760,\n",
       " 1710,\n",
       " 1210,\n",
       " 1217,\n",
       " 1214,\n",
       " 1390,\n",
       " 1833,\n",
       " 1297,\n",
       " 1461,\n",
       " 74,\n",
       " 356,\n",
       " 678,\n",
       " 691,\n",
       " 690,\n",
       " 1989,\n",
       " 1223,\n",
       " 1227,\n",
       " 1225,\n",
       " 1224,\n",
       " 1226,\n",
       " 2496,\n",
       " 1078,\n",
       " 373,\n",
       " 371,\n",
       " 2561,\n",
       " 372,\n",
       " 369,\n",
       " 1228,\n",
       " 1077,\n",
       " 1233,\n",
       " 1036,\n",
       " 183,\n",
       " 3298,\n",
       " 63,\n",
       " 1050,\n",
       " 1389,\n",
       " 1037,\n",
       " 1161,\n",
       " 1182,\n",
       " 1183,\n",
       " 1990,\n",
       " 2501,\n",
       " 1991,\n",
       " 1916,\n",
       " 1041,\n",
       " 687,\n",
       " 689,\n",
       " 1108,\n",
       " 683,\n",
       " 685,\n",
       " 686,\n",
       " 684,\n",
       " 412,\n",
       " 2719,\n",
       " 2587,\n",
       " 1723,\n",
       " 1600,\n",
       " 1360,\n",
       " 50,\n",
       " 48,\n",
       " 368,\n",
       " 2637,\n",
       " 1995,\n",
       " 1194,\n",
       " 193,\n",
       " 3308,\n",
       " 1052,\n",
       " 1822,\n",
       " 2575,\n",
       " 693,\n",
       " 338,\n",
       " 2619,\n",
       " 362,\n",
       " 2564,\n",
       " 1719,\n",
       " 1305,\n",
       " 1073,\n",
       " 1872,\n",
       " 1250,\n",
       " 71,\n",
       " 1180,\n",
       " 1817,\n",
       " 1236,\n",
       " 96,\n",
       " 1178,\n",
       " 10,\n",
       " 69,\n",
       " 92,\n",
       " 1208,\n",
       " 1033,\n",
       " 1087,\n",
       " 55,\n",
       " 1715,\n",
       " 973,\n",
       " 1234,\n",
       " 1238,\n",
       " 1382,\n",
       " 407,\n",
       " 2714,\n",
       " 1142,\n",
       " 986,\n",
       " 1138,\n",
       " 1141,\n",
       " 1133,\n",
       " 1125,\n",
       " 943,\n",
       " 2757,\n",
       " 1128,\n",
       " 944,\n",
       " 2758,\n",
       " 1129,\n",
       " 1130,\n",
       " 870,\n",
       " 1117,\n",
       " 1123,\n",
       " 1134,\n",
       " 1137,\n",
       " 1131,\n",
       " 865,\n",
       " 1135,\n",
       " 945,\n",
       " 2759,\n",
       " 1088,\n",
       " 1067,\n",
       " 2574,\n",
       " 1104,\n",
       " 702,\n",
       " 701,\n",
       " 1099,\n",
       " 1197,\n",
       " 2579,\n",
       " 2573,\n",
       " 1245,\n",
       " 1247,\n",
       " 122,\n",
       " 276,\n",
       " 271,\n",
       " 273,\n",
       " 272,\n",
       " 1097,\n",
       " 1107,\n",
       " 1262,\n",
       " 1115,\n",
       " 2805,\n",
       " 1124,\n",
       " 1278,\n",
       " 1144,\n",
       " 688,\n",
       " 1994,\n",
       " 1264,\n",
       " 181,\n",
       " 3296,\n",
       " 1511,\n",
       " 788,\n",
       " 3333,\n",
       " 297,\n",
       " 298,\n",
       " 296,\n",
       " 304,\n",
       " 299,\n",
       " 295,\n",
       " 302,\n",
       " 301,\n",
       " 300,\n",
       " 1189,\n",
       " 2000,\n",
       " 78,\n",
       " 1047,\n",
       " 1867,\n",
       " 1851,\n",
       " 1357,\n",
       " 1755,\n",
       " 1754,\n",
       " 640,\n",
       " 1079,\n",
       " 1279,\n",
       " 1258,\n",
       " 1301,\n",
       " 1650,\n",
       " 1455,\n",
       " 1443,\n",
       " 1325,\n",
       " 1284,\n",
       " 1282,\n",
       " 1323,\n",
       " 1384,\n",
       " 1302,\n",
       " 1285,\n",
       " 1371,\n",
       " 1372,\n",
       " 1567,\n",
       " 1281,\n",
       " 1286,\n",
       " 1452,\n",
       " 1453,\n",
       " 1454,\n",
       " 1290,\n",
       " 1304,\n",
       " 1451,\n",
       " 1450,\n",
       " 1374,\n",
       " 1280,\n",
       " 172,\n",
       " 3287,\n",
       " 1259,\n",
       " 1168,\n",
       " 1613,\n",
       " 1997,\n",
       " 1185,\n",
       " 1864,\n",
       " 344,\n",
       " 1038,\n",
       " 1870,\n",
       " 1340,\n",
       " 3107,\n",
       " 165,\n",
       " 3280,\n",
       " 1082,\n",
       " 212,\n",
       " 3327,\n",
       " 167,\n",
       " 3282,\n",
       " 169,\n",
       " 3284,\n",
       " 2555,\n",
       " 1621,\n",
       " 2493,\n",
       " 357,\n",
       " 11,\n",
       " 1218,\n",
       " 1359,\n",
       " 2001,\n",
       " 2815,\n",
       " 2508,\n",
       " 180,\n",
       " 3295,\n",
       " 51,\n",
       " 2518,\n",
       " 1383,\n",
       " 1782,\n",
       " 1043,\n",
       " 73,\n",
       " 789,\n",
       " 3334,\n",
       " 2010,\n",
       " 1996,\n",
       " 3241,\n",
       " 1207,\n",
       " 1393,\n",
       " 1868,\n",
       " 743,\n",
       " 12,\n",
       " 3078,\n",
       " 2962,\n",
       " 1362,\n",
       " 155,\n",
       " 3270,\n",
       " 1871,\n",
       " 1246,\n",
       " 2002,\n",
       " 1358,\n",
       " 2943,\n",
       " 1365,\n",
       " 782,\n",
       " 1615,\n",
       " 1169,\n",
       " 1240,\n",
       " 413,\n",
       " 2720,\n",
       " 56,\n",
       " 1251,\n",
       " 1044,\n",
       " 1055,\n",
       " 2580,\n",
       " 1221,\n",
       " 2487,\n",
       " 2511,\n",
       " 2772,\n",
       " 72,\n",
       " 1086,\n",
       " 100,\n",
       " 1306,\n",
       " 1034,\n",
       " 1275,\n",
       " 1085,\n",
       " 1181,\n",
       " 1158,\n",
       " 1139,\n",
       " 1173,\n",
       " 1770,\n",
       " 1984,\n",
       " 2006,\n",
       " 1244,\n",
       " 289,\n",
       " 1289,\n",
       " 1257,\n",
       " 1118,\n",
       " 1084,\n",
       " 1081,\n",
       " 1846,\n",
       " 1847,\n",
       " 1062,\n",
       " 1249,\n",
       " 408,\n",
       " 2715,\n",
       " 1260,\n",
       " 1773,\n",
       " 363,\n",
       " 2569,\n",
       " 79,\n",
       " 1353,\n",
       " 1318,\n",
       " 1347,\n",
       " 1199,\n",
       " 1845,\n",
       " 1060,\n",
       " 1056,\n",
       " 189,\n",
       " 3304,\n",
       " 1103,\n",
       " 175,\n",
       " 3290,\n",
       " 1874,\n",
       " 179,\n",
       " 3294,\n",
       " 1163,\n",
       " 1836,\n",
       " 2495,\n",
       " 352,\n",
       " 2626,\n",
       " 1071,\n",
       " 1140,\n",
       " 303,\n",
       " 1057,\n",
       " 1848,\n",
       " 1061,\n",
       " 1165,\n",
       " 2505,\n",
       " 1024,\n",
       " 75,\n",
       " 663,\n",
       " 1256,\n",
       " 1252,\n",
       " 1255,\n",
       " 2007,\n",
       " 1074,\n",
       " 1212,\n",
       " 1395,\n",
       " 741,\n",
       " 1811,\n",
       " 839,\n",
       " 3384,\n",
       " 2588,\n",
       " 26,\n",
       " 33,\n",
       " 28,\n",
       " 40,\n",
       " 38,\n",
       " 1100,\n",
       " 1265,\n",
       " 834,\n",
       " 3379,\n",
       " 829,\n",
       " 3374,\n",
       " 828,\n",
       " 3373,\n",
       " 831,\n",
       " 3376,\n",
       " 825,\n",
       " 3370,\n",
       " 824,\n",
       " 3369,\n",
       " 823,\n",
       " 3368,\n",
       " 830,\n",
       " 3375,\n",
       " 832,\n",
       " 3377,\n",
       " 827,\n",
       " 3372,\n",
       " 826,\n",
       " 3371,\n",
       " 783,\n",
       " 3328,\n",
       " 833,\n",
       " 3378,\n",
       " 802,\n",
       " 3347,\n",
       " 211,\n",
       " 3326,\n",
       " 1708,\n",
       " 1200,\n",
       " 1049,\n",
       " 125,\n",
       " 166,\n",
       " 3281,\n",
       " 1051,\n",
       " 1072,\n",
       " 1608,\n",
       " 946,\n",
       " 2760,\n",
       " 1094,\n",
       " 1241,\n",
       " 2837,\n",
       " 1136,\n",
       " 1059,\n",
       " 1219,\n",
       " 1842,\n",
       " 1119,\n",
       " 1394,\n",
       " 794,\n",
       " 3339,\n",
       " 235,\n",
       " 3386,\n",
       " 1355,\n",
       " 159,\n",
       " 3274,\n",
       " 1458,\n",
       " 1463,\n",
       " 1467,\n",
       " 1462,\n",
       " 1460,\n",
       " 1459,\n",
       " 337,\n",
       " 2618,\n",
       " 1616,\n",
       " 922,\n",
       " 1046,\n",
       " 2004,\n",
       " 170,\n",
       " 3285,\n",
       " 1999,\n",
       " 196,\n",
       " 3311,\n",
       " 346,\n",
       " 347]"
      ]
     },
     "execution_count": 37,
     "metadata": {},
     "output_type": "execute_result"
    }
   ],
   "source": [
    "cat_without_other = list(genre_without_other['category_id'])\n",
    "cat_without_other"
   ]
  },
  {
   "cell_type": "code",
   "execution_count": 38,
   "metadata": {},
   "outputs": [
    {
     "data": {
      "text/plain": [
       "'Law & Crime'"
      ]
     },
     "execution_count": 38,
     "metadata": {},
     "output_type": "execute_result"
    }
   ],
   "source": [
    "genre_without_other.loc[genre_without_other['category_id'] == 3386, 'genre'].values[0]"
   ]
  },
  {
   "cell_type": "code",
   "execution_count": 39,
   "metadata": {},
   "outputs": [],
   "source": [
    "def translate_categories(row):\n",
    "    all_genre = []\n",
    "    stripped = row.strip(\"[]\")\n",
    "    lis = [int(num) for num in stripped.split(',') if num != '']\n",
    "   # print(lis)\n",
    "    for i in lis: \n",
    "        if i in cat_without_other:\n",
    "            value = genre_without_other.loc[genre_without_other['category_id'] == i, 'genre'].values[0]\n",
    "            all_genre.append(value)\n",
    "    #print(all_genre)\n",
    "    if len(all_genre) == 0:\n",
    "        g = \"Other\"\n",
    "    else:\n",
    "        g = stats.mode(all_genre)\n",
    "    return g\n",
    "\n",
    "    "
   ]
  },
  {
   "cell_type": "code",
   "execution_count": 40,
   "metadata": {},
   "outputs": [
    {
     "data": {
      "text/plain": [
       "'Law & Crime'"
      ]
     },
     "execution_count": 40,
     "metadata": {},
     "output_type": "execute_result"
    }
   ],
   "source": [
    "translate_categories('[235, 3386]')"
   ]
  },
  {
   "cell_type": "code",
   "execution_count": 41,
   "metadata": {},
   "outputs": [],
   "source": [
    "books[\"Genre\"] = books[\"categories\"].apply(translate_categories)"
   ]
  },
  {
   "cell_type": "code",
   "execution_count": 42,
   "metadata": {},
   "outputs": [
    {
     "data": {
      "text/plain": [
       "Other                             515390\n",
       "Social Science and Teaching       122931\n",
       "Medicine                           44421\n",
       "Engineering & Programming          43302\n",
       "Arts & Music                       42760\n",
       "Business, Economics & Industry     38194\n",
       "Law & Crime                        30525\n",
       "Kids & Fiction                     25776\n",
       "Name: Genre, dtype: int64"
      ]
     },
     "execution_count": 42,
     "metadata": {},
     "output_type": "execute_result"
    }
   ],
   "source": [
    "books[\"Genre\"].value_counts()"
   ]
  },
  {
   "cell_type": "code",
   "execution_count": 43,
   "metadata": {},
   "outputs": [],
   "source": [
    "# create new dataframes based on each genre"
   ]
  },
  {
   "cell_type": "code",
   "execution_count": 44,
   "metadata": {},
   "outputs": [
    {
     "data": {
      "text/plain": [
       "515390"
      ]
     },
     "execution_count": 44,
     "metadata": {},
     "output_type": "execute_result"
    }
   ],
   "source": [
    "other = books[books[\"Genre\"]==\"Other\"]\n",
    "len(other)"
   ]
  },
  {
   "cell_type": "code",
   "execution_count": 45,
   "metadata": {},
   "outputs": [
    {
     "data": {
      "text/plain": [
       "122931"
      ]
     },
     "execution_count": 45,
     "metadata": {},
     "output_type": "execute_result"
    }
   ],
   "source": [
    "social_and_teaching = books[books[\"Genre\"]==\"Social Science and Teaching\"]\n",
    "len(social_and_teaching)"
   ]
  },
  {
   "cell_type": "code",
   "execution_count": 46,
   "metadata": {},
   "outputs": [
    {
     "data": {
      "text/plain": [
       "44421"
      ]
     },
     "execution_count": 46,
     "metadata": {},
     "output_type": "execute_result"
    }
   ],
   "source": [
    "medicine = books[books[\"Genre\"]==\"Medicine\"]\n",
    "len(medicine)"
   ]
  },
  {
   "cell_type": "code",
   "execution_count": 47,
   "metadata": {},
   "outputs": [
    {
     "data": {
      "text/plain": [
       "43302"
      ]
     },
     "execution_count": 47,
     "metadata": {},
     "output_type": "execute_result"
    }
   ],
   "source": [
    "eng_and_prog = books[books[\"Genre\"]==\"Engineering & Programming\"]\n",
    "len(eng_and_prog)"
   ]
  },
  {
   "cell_type": "code",
   "execution_count": 48,
   "metadata": {},
   "outputs": [
    {
     "data": {
      "text/plain": [
       "42760"
      ]
     },
     "execution_count": 48,
     "metadata": {},
     "output_type": "execute_result"
    }
   ],
   "source": [
    "arts_and_music = books[books[\"Genre\"]==\"Arts & Music\"]\n",
    "len(arts_and_music)"
   ]
  },
  {
   "cell_type": "code",
   "execution_count": 49,
   "metadata": {},
   "outputs": [
    {
     "data": {
      "text/plain": [
       "38194"
      ]
     },
     "execution_count": 49,
     "metadata": {},
     "output_type": "execute_result"
    }
   ],
   "source": [
    "business = books[books[\"Genre\"]==\"Business, Economics & Industry\"]\n",
    "len(business)"
   ]
  },
  {
   "cell_type": "code",
   "execution_count": 50,
   "metadata": {},
   "outputs": [
    {
     "data": {
      "text/plain": [
       "30525"
      ]
     },
     "execution_count": 50,
     "metadata": {},
     "output_type": "execute_result"
    }
   ],
   "source": [
    "law_and_crime = books[books[\"Genre\"]==\"Law & Crime\"]\n",
    "len(law_and_crime)"
   ]
  },
  {
   "cell_type": "code",
   "execution_count": 51,
   "metadata": {},
   "outputs": [
    {
     "data": {
      "text/plain": [
       "25776"
      ]
     },
     "execution_count": 51,
     "metadata": {},
     "output_type": "execute_result"
    }
   ],
   "source": [
    "kids_and_fiction = books[books[\"Genre\"]==\"Kids & Fiction\"]\n",
    "len(kids_and_fiction)"
   ]
  },
  {
   "cell_type": "code",
   "execution_count": 64,
   "metadata": {},
   "outputs": [],
   "source": [
    "def get_wordnet_pos(token):\n",
    "\n",
    "    tag = nltk.pos_tag([token], lang=\"eng\")[0][1][0].upper()\n",
    "    tag_dict = {\"N\": wordnet.NOUN,\n",
    "                \"J\": wordnet.ADJ,\n",
    "                \"V\": wordnet.VERB,\n",
    "                \"R\": wordnet.ADV}\n",
    "    return tag_dict.get(tag, wordnet.NOUN)"
   ]
  },
  {
   "cell_type": "code",
   "execution_count": 65,
   "metadata": {},
   "outputs": [],
   "source": [
    "# tokenizer, remove punctuation, lower case\n",
    "\n",
    "def tokenizer_and_remove_punctuation(row):\n",
    "\n",
    "    tokens = word_tokenize(row[\"text\"])\n",
    "\n",
    "    return [token.lower() for token in tokens if token.isalpha()]"
   ]
  },
  {
   "cell_type": "code",
   "execution_count": 66,
   "metadata": {},
   "outputs": [],
   "source": [
    "lm = WordNetLemmatizer()\n",
    "\n",
    "def lemmatizer_with_pos(row):\n",
    "\n",
    "    return [lm.lemmatize(token, get_wordnet_pos(token)) for token in row[\"tokenized\"]]"
   ]
  },
  {
   "cell_type": "code",
   "execution_count": 67,
   "metadata": {},
   "outputs": [],
   "source": [
    "def remove_sw(row):\n",
    "    return list(set(row[\"lemmatized\"]).difference(stopwords.words()))"
   ]
  },
  {
   "cell_type": "code",
   "execution_count": 68,
   "metadata": {},
   "outputs": [],
   "source": [
    "# put all together into a cave man language\n",
    "\n",
    "def re_blob(row):\n",
    "    return \" \".join(row[\"no_stopwords\"])"
   ]
  },
  {
   "cell_type": "markdown",
   "metadata": {},
   "source": [
    "### NLP for Social Science and Teaching"
   ]
  },
  {
   "cell_type": "code",
   "execution_count": 69,
   "metadata": {},
   "outputs": [
    {
     "data": {
      "text/html": [
       "<div>\n",
       "<style scoped>\n",
       "    .dataframe tbody tr th:only-of-type {\n",
       "        vertical-align: middle;\n",
       "    }\n",
       "\n",
       "    .dataframe tbody tr th {\n",
       "        vertical-align: top;\n",
       "    }\n",
       "\n",
       "    .dataframe thead th {\n",
       "        text-align: right;\n",
       "    }\n",
       "</style>\n",
       "<table border=\"1\" class=\"dataframe\">\n",
       "  <thead>\n",
       "    <tr style=\"text-align: right;\">\n",
       "      <th></th>\n",
       "      <th>text</th>\n",
       "    </tr>\n",
       "  </thead>\n",
       "  <tbody>\n",
       "    <tr>\n",
       "      <th>29</th>\n",
       "      <td>The Future of Humanity : Terraforming Mars, In...</td>\n",
       "    </tr>\n",
       "    <tr>\n",
       "      <th>39</th>\n",
       "      <td>Have I Got News For You: Guide to Modern Brita...</td>\n",
       "    </tr>\n",
       "    <tr>\n",
       "      <th>44</th>\n",
       "      <td>The Second Machine Age : Work, Progress, and P...</td>\n",
       "    </tr>\n",
       "    <tr>\n",
       "      <th>66</th>\n",
       "      <td>The Gendered Brain : The new neuroscience that...</td>\n",
       "    </tr>\n",
       "    <tr>\n",
       "      <th>78</th>\n",
       "      <td>Hacking Darwin : Genetic Engineering and the F...</td>\n",
       "    </tr>\n",
       "    <tr>\n",
       "      <th>...</th>\n",
       "      <td>...</td>\n",
       "    </tr>\n",
       "    <tr>\n",
       "      <th>1108891</th>\n",
       "      <td>My Awesome Explorer Field Guide : The Practica...</td>\n",
       "    </tr>\n",
       "    <tr>\n",
       "      <th>1108942</th>\n",
       "      <td>When Camp Onanda Gives Her Call : Camp History...</td>\n",
       "    </tr>\n",
       "    <tr>\n",
       "      <th>1109041</th>\n",
       "      <td>The Complete Golfer This scarce antiquarian bo...</td>\n",
       "    </tr>\n",
       "    <tr>\n",
       "      <th>1109198</th>\n",
       "      <td>2019 Planner : Weekly Planner &amp; Monthly Calend...</td>\n",
       "    </tr>\n",
       "    <tr>\n",
       "      <th>1109199</th>\n",
       "      <td>2019 Planner : Weekly Planner &amp; Monthly Calend...</td>\n",
       "    </tr>\n",
       "  </tbody>\n",
       "</table>\n",
       "<p>122931 rows × 1 columns</p>\n",
       "</div>"
      ],
      "text/plain": [
       "                                                      text\n",
       "29       The Future of Humanity : Terraforming Mars, In...\n",
       "39       Have I Got News For You: Guide to Modern Brita...\n",
       "44       The Second Machine Age : Work, Progress, and P...\n",
       "66       The Gendered Brain : The new neuroscience that...\n",
       "78       Hacking Darwin : Genetic Engineering and the F...\n",
       "...                                                    ...\n",
       "1108891  My Awesome Explorer Field Guide : The Practica...\n",
       "1108942  When Camp Onanda Gives Her Call : Camp History...\n",
       "1109041  The Complete Golfer This scarce antiquarian bo...\n",
       "1109198  2019 Planner : Weekly Planner & Monthly Calend...\n",
       "1109199  2019 Planner : Weekly Planner & Monthly Calend...\n",
       "\n",
       "[122931 rows x 1 columns]"
      ]
     },
     "execution_count": 69,
     "metadata": {},
     "output_type": "execute_result"
    }
   ],
   "source": [
    "text = pd.DataFrame(social_and_teaching[\"text\"], columns=[\"text\"])\n",
    "text"
   ]
  },
  {
   "cell_type": "code",
   "execution_count": 70,
   "metadata": {},
   "outputs": [],
   "source": [
    "text[\"tokenized\"] =  text.apply(tokenizer_and_remove_punctuation, axis=1)"
   ]
  },
  {
   "cell_type": "code",
   "execution_count": 71,
   "metadata": {},
   "outputs": [],
   "source": [
    "# lemmatize with part of speach tags\n",
    "\n",
    "lm = WordNetLemmatizer()\n",
    "\n",
    "\n",
    "text[\"lemmatized\"] = text.apply(lemmatizer_with_pos, axis=1)"
   ]
  },
  {
   "cell_type": "code",
   "execution_count": 72,
   "metadata": {},
   "outputs": [],
   "source": [
    "# remove stopwords\n",
    "\n",
    "text[\"no_stopwords\"] = text.apply(remove_sw, axis=1)"
   ]
  },
  {
   "cell_type": "code",
   "execution_count": 73,
   "metadata": {},
   "outputs": [],
   "source": [
    "# put all together into a cave man language\n",
    "\n",
    "\n",
    "text[\"clean_blob\"] =  text.apply(re_blob, axis = 1)"
   ]
  },
  {
   "cell_type": "code",
   "execution_count": 74,
   "metadata": {},
   "outputs": [
    {
     "data": {
      "text/plain": [
       "CountVectorizer(max_features=10000)"
      ]
     },
     "execution_count": 74,
     "metadata": {},
     "output_type": "execute_result"
    }
   ],
   "source": [
    "# create our bag of words model to then be able to apply ML algorithms\n",
    "\n",
    "bow_vct = CountVectorizer(max_features=10000)\n",
    "\n",
    "# train it\n",
    "\n",
    "bow_vct.fit(text[\"clean_blob\"])"
   ]
  },
  {
   "cell_type": "code",
   "execution_count": 75,
   "metadata": {},
   "outputs": [],
   "source": [
    "X = bow_vct.transform(text[\"clean_blob\"]).toarray()"
   ]
  },
  {
   "cell_type": "code",
   "execution_count": 76,
   "metadata": {},
   "outputs": [],
   "source": [
    "social_and_teaching_df = pd.DataFrame(X, columns=bow_vct.get_feature_names_out())\n",
    "#social_and_teaching_df.to_csv(\"ssat_words.csv\")\n",
    "#social_and_teaching_df.to_csv(\"ssat_words.csv\")"
   ]
  },
  {
   "cell_type": "code",
   "execution_count": 77,
   "metadata": {},
   "outputs": [
    {
     "data": {
      "text/plain": [
       "KMeans(n_clusters=5)"
      ]
     },
     "execution_count": 77,
     "metadata": {},
     "output_type": "execute_result"
    }
   ],
   "source": [
    "from sklearn.cluster import KMeans\n",
    "\n",
    "km = KMeans(n_clusters=5)\n",
    "\n",
    "km.fit(social_and_teaching_df)"
   ]
  },
  {
   "cell_type": "code",
   "execution_count": 53,
   "metadata": {},
   "outputs": [],
   "source": [
    "pickle.dump(bow_vct, open(\"bv_ssat.p\", \"wb\"))\n",
    "pickle.dump(km, open(\"km_ssat.p\", \"wb\"))"
   ]
  },
  {
   "cell_type": "code",
   "execution_count": 78,
   "metadata": {},
   "outputs": [],
   "source": [
    "pred = km.predict(social_and_teaching_df)"
   ]
  },
  {
   "cell_type": "code",
   "execution_count": 79,
   "metadata": {},
   "outputs": [
    {
     "name": "stderr",
     "output_type": "stream",
     "text": [
      "/var/folders/22/z5s1hrts7vscwhvpw0jtj1cr0000gn/T/ipykernel_5653/378988656.py:1: SettingWithCopyWarning: \n",
      "A value is trying to be set on a copy of a slice from a DataFrame.\n",
      "Try using .loc[row_indexer,col_indexer] = value instead\n",
      "\n",
      "See the caveats in the documentation: https://pandas.pydata.org/pandas-docs/stable/user_guide/indexing.html#returning-a-view-versus-a-copy\n",
      "  social_and_teaching[\"class\"] = pred\n"
     ]
    }
   ],
   "source": [
    "social_and_teaching[\"class\"] = pred\n",
    "\n",
    "social_and_teaching.to_pickle(\"ssat_pred.p\")"
   ]
  },
  {
   "cell_type": "markdown",
   "metadata": {},
   "source": [
    "### NLP for Medicine"
   ]
  },
  {
   "cell_type": "code",
   "execution_count": 80,
   "metadata": {},
   "outputs": [],
   "source": [
    "text = pd.DataFrame(medicine[\"text\"], columns=[\"text\"])"
   ]
  },
  {
   "cell_type": "code",
   "execution_count": 81,
   "metadata": {},
   "outputs": [],
   "source": [
    "text[\"tokenized\"] =  text.apply(tokenizer_and_remove_punctuation, axis=1)"
   ]
  },
  {
   "cell_type": "code",
   "execution_count": 82,
   "metadata": {},
   "outputs": [],
   "source": [
    "text[\"lemmatized\"] = text.apply(lemmatizer_with_pos, axis=1)"
   ]
  },
  {
   "cell_type": "code",
   "execution_count": 83,
   "metadata": {},
   "outputs": [],
   "source": [
    "text[\"no_stopwords\"] = text.apply(remove_sw, axis=1)"
   ]
  },
  {
   "cell_type": "code",
   "execution_count": 84,
   "metadata": {},
   "outputs": [],
   "source": [
    "text[\"clean_blob\"] =  text.apply(re_blob, axis = 1)"
   ]
  },
  {
   "cell_type": "code",
   "execution_count": 85,
   "metadata": {},
   "outputs": [
    {
     "data": {
      "text/plain": [
       "CountVectorizer(max_features=10000)"
      ]
     },
     "execution_count": 85,
     "metadata": {},
     "output_type": "execute_result"
    }
   ],
   "source": [
    "bow_vct = CountVectorizer(max_features=10000)\n",
    "\n",
    "bow_vct.fit(text[\"clean_blob\"])"
   ]
  },
  {
   "cell_type": "code",
   "execution_count": 86,
   "metadata": {},
   "outputs": [],
   "source": [
    "X = bow_vct.transform(text[\"clean_blob\"]).toarray()"
   ]
  },
  {
   "cell_type": "code",
   "execution_count": 87,
   "metadata": {},
   "outputs": [],
   "source": [
    "medicine_df = pd.DataFrame(X, columns=bow_vct.get_feature_names_out())\n",
    "#medicine_df.to_csv(\"med_words.csv\")"
   ]
  },
  {
   "cell_type": "code",
   "execution_count": 88,
   "metadata": {},
   "outputs": [
    {
     "data": {
      "text/plain": [
       "KMeans(n_clusters=5)"
      ]
     },
     "execution_count": 88,
     "metadata": {},
     "output_type": "execute_result"
    }
   ],
   "source": [
    "km = KMeans(n_clusters=5)\n",
    "\n",
    "km.fit(medicine_df)"
   ]
  },
  {
   "cell_type": "code",
   "execution_count": 74,
   "metadata": {},
   "outputs": [],
   "source": [
    "pickle.dump(bow_vct, open(\"bv_med.p\", \"wb\"))\n",
    "pickle.dump(km, open(\"km_med.p\", \"wb\"))"
   ]
  },
  {
   "cell_type": "code",
   "execution_count": 89,
   "metadata": {},
   "outputs": [],
   "source": [
    "pred = km.predict(medicine_df)"
   ]
  },
  {
   "cell_type": "code",
   "execution_count": 90,
   "metadata": {},
   "outputs": [
    {
     "name": "stderr",
     "output_type": "stream",
     "text": [
      "/var/folders/22/z5s1hrts7vscwhvpw0jtj1cr0000gn/T/ipykernel_5653/205638584.py:1: SettingWithCopyWarning: \n",
      "A value is trying to be set on a copy of a slice from a DataFrame.\n",
      "Try using .loc[row_indexer,col_indexer] = value instead\n",
      "\n",
      "See the caveats in the documentation: https://pandas.pydata.org/pandas-docs/stable/user_guide/indexing.html#returning-a-view-versus-a-copy\n",
      "  medicine[\"class\"]=pred\n"
     ]
    }
   ],
   "source": [
    "medicine[\"class\"]=pred\n",
    "\n",
    "medicine.to_pickle(\"med_pred.p\")"
   ]
  },
  {
   "cell_type": "markdown",
   "metadata": {},
   "source": [
    "### NLP for Engineering and Programming"
   ]
  },
  {
   "cell_type": "code",
   "execution_count": 91,
   "metadata": {},
   "outputs": [],
   "source": [
    "text = pd.DataFrame(eng_and_prog[\"text\"], columns=[\"text\"])"
   ]
  },
  {
   "cell_type": "code",
   "execution_count": 92,
   "metadata": {},
   "outputs": [],
   "source": [
    "text[\"tokenized\"] =  text.apply(tokenizer_and_remove_punctuation, axis=1)"
   ]
  },
  {
   "cell_type": "code",
   "execution_count": 93,
   "metadata": {},
   "outputs": [],
   "source": [
    "text[\"lemmatized\"] = text.apply(lemmatizer_with_pos, axis=1)"
   ]
  },
  {
   "cell_type": "code",
   "execution_count": 94,
   "metadata": {},
   "outputs": [],
   "source": [
    "text[\"no_stopwords\"] = text.apply(remove_sw, axis=1)"
   ]
  },
  {
   "cell_type": "code",
   "execution_count": 95,
   "metadata": {},
   "outputs": [],
   "source": [
    "text[\"clean_blob\"] =  text.apply(re_blob, axis = 1)"
   ]
  },
  {
   "cell_type": "code",
   "execution_count": 96,
   "metadata": {},
   "outputs": [
    {
     "data": {
      "text/plain": [
       "CountVectorizer(max_features=10000)"
      ]
     },
     "execution_count": 96,
     "metadata": {},
     "output_type": "execute_result"
    }
   ],
   "source": [
    "bow_vct = CountVectorizer(max_features=10000)\n",
    "\n",
    "bow_vct.fit(text[\"clean_blob\"])"
   ]
  },
  {
   "cell_type": "code",
   "execution_count": 97,
   "metadata": {},
   "outputs": [],
   "source": [
    "X = bow_vct.transform(text[\"clean_blob\"]).toarray()"
   ]
  },
  {
   "cell_type": "code",
   "execution_count": 98,
   "metadata": {},
   "outputs": [],
   "source": [
    "eng_and_prog_df = pd.DataFrame(X, columns=bow_vct.get_feature_names_out())\n",
    "#eng_and_prog_df.to_csv(\"ep_words.csv\")"
   ]
  },
  {
   "cell_type": "code",
   "execution_count": 99,
   "metadata": {},
   "outputs": [
    {
     "data": {
      "text/plain": [
       "KMeans(n_clusters=5)"
      ]
     },
     "execution_count": 99,
     "metadata": {},
     "output_type": "execute_result"
    }
   ],
   "source": [
    "km = KMeans(n_clusters=5)\n",
    "\n",
    "km.fit(eng_and_prog_df)"
   ]
  },
  {
   "cell_type": "code",
   "execution_count": 86,
   "metadata": {},
   "outputs": [],
   "source": [
    "pickle.dump(bow_vct, open(\"bv_ep.p\", \"wb\"))\n",
    "pickle.dump(km, open(\"km_ep.p\", \"wb\"))"
   ]
  },
  {
   "cell_type": "code",
   "execution_count": 100,
   "metadata": {},
   "outputs": [],
   "source": [
    "pred = km.predict(eng_and_prog_df)"
   ]
  },
  {
   "cell_type": "code",
   "execution_count": 101,
   "metadata": {},
   "outputs": [
    {
     "name": "stderr",
     "output_type": "stream",
     "text": [
      "/var/folders/22/z5s1hrts7vscwhvpw0jtj1cr0000gn/T/ipykernel_5653/1944449034.py:1: SettingWithCopyWarning: \n",
      "A value is trying to be set on a copy of a slice from a DataFrame.\n",
      "Try using .loc[row_indexer,col_indexer] = value instead\n",
      "\n",
      "See the caveats in the documentation: https://pandas.pydata.org/pandas-docs/stable/user_guide/indexing.html#returning-a-view-versus-a-copy\n",
      "  eng_and_prog[\"class\"] = pred\n"
     ]
    }
   ],
   "source": [
    "eng_and_prog[\"class\"] = pred\n",
    "\n",
    "eng_and_prog.to_pickle(\"ep_pred.p\")"
   ]
  },
  {
   "cell_type": "markdown",
   "metadata": {},
   "source": [
    "### NLP for Arts & Music"
   ]
  },
  {
   "cell_type": "code",
   "execution_count": 102,
   "metadata": {},
   "outputs": [],
   "source": [
    "text = pd.DataFrame(arts_and_music[\"text\"], columns=[\"text\"])"
   ]
  },
  {
   "cell_type": "code",
   "execution_count": 103,
   "metadata": {},
   "outputs": [],
   "source": [
    "text[\"tokenized\"] =  text.apply(tokenizer_and_remove_punctuation, axis=1)"
   ]
  },
  {
   "cell_type": "code",
   "execution_count": 104,
   "metadata": {},
   "outputs": [],
   "source": [
    "text[\"lemmatized\"] = text.apply(lemmatizer_with_pos, axis=1)"
   ]
  },
  {
   "cell_type": "code",
   "execution_count": 105,
   "metadata": {},
   "outputs": [],
   "source": [
    "text[\"no_stopwords\"] = text.apply(remove_sw, axis=1)"
   ]
  },
  {
   "cell_type": "code",
   "execution_count": 106,
   "metadata": {},
   "outputs": [],
   "source": [
    "text[\"clean_blob\"] =  text.apply(re_blob, axis = 1)"
   ]
  },
  {
   "cell_type": "code",
   "execution_count": 107,
   "metadata": {},
   "outputs": [
    {
     "data": {
      "text/plain": [
       "CountVectorizer(max_features=10000)"
      ]
     },
     "execution_count": 107,
     "metadata": {},
     "output_type": "execute_result"
    }
   ],
   "source": [
    "bow_vct = CountVectorizer(max_features=10000)\n",
    "\n",
    "bow_vct.fit(text[\"clean_blob\"])"
   ]
  },
  {
   "cell_type": "code",
   "execution_count": 108,
   "metadata": {},
   "outputs": [],
   "source": [
    "X = bow_vct.transform(text[\"clean_blob\"]).toarray()"
   ]
  },
  {
   "cell_type": "code",
   "execution_count": 109,
   "metadata": {},
   "outputs": [],
   "source": [
    "art_music_df = pd.DataFrame(X, columns=bow_vct.get_feature_names_out())\n",
    "#art_music_df.to_csv(\"am_words.csv\")"
   ]
  },
  {
   "cell_type": "code",
   "execution_count": 110,
   "metadata": {},
   "outputs": [
    {
     "data": {
      "text/plain": [
       "KMeans(n_clusters=5)"
      ]
     },
     "execution_count": 110,
     "metadata": {},
     "output_type": "execute_result"
    }
   ],
   "source": [
    "km = KMeans(n_clusters=5)\n",
    "\n",
    "km.fit(art_music_df)"
   ]
  },
  {
   "cell_type": "code",
   "execution_count": 98,
   "metadata": {},
   "outputs": [],
   "source": [
    "pickle.dump(bow_vct, open(\"bv_am.p\", \"wb\"))\n",
    "pickle.dump(km, open(\"km_am.p\", \"wb\"))"
   ]
  },
  {
   "cell_type": "code",
   "execution_count": 111,
   "metadata": {},
   "outputs": [],
   "source": [
    "pred = km.predict(art_music_df)"
   ]
  },
  {
   "cell_type": "code",
   "execution_count": 112,
   "metadata": {},
   "outputs": [
    {
     "name": "stderr",
     "output_type": "stream",
     "text": [
      "/var/folders/22/z5s1hrts7vscwhvpw0jtj1cr0000gn/T/ipykernel_5653/2694620624.py:1: SettingWithCopyWarning: \n",
      "A value is trying to be set on a copy of a slice from a DataFrame.\n",
      "Try using .loc[row_indexer,col_indexer] = value instead\n",
      "\n",
      "See the caveats in the documentation: https://pandas.pydata.org/pandas-docs/stable/user_guide/indexing.html#returning-a-view-versus-a-copy\n",
      "  arts_and_music[\"class\"] = pred\n"
     ]
    }
   ],
   "source": [
    "arts_and_music[\"class\"] = pred\n",
    "\n",
    "arts_and_music.to_pickle(\"am_pred.p\")"
   ]
  },
  {
   "cell_type": "markdown",
   "metadata": {},
   "source": [
    "### NLP for Business, Economics & Industry"
   ]
  },
  {
   "cell_type": "code",
   "execution_count": 113,
   "metadata": {},
   "outputs": [],
   "source": [
    "text = pd.DataFrame(business[\"text\"], columns=[\"text\"])"
   ]
  },
  {
   "cell_type": "code",
   "execution_count": 114,
   "metadata": {},
   "outputs": [],
   "source": [
    "text[\"tokenized\"] =  text.apply(tokenizer_and_remove_punctuation, axis=1)"
   ]
  },
  {
   "cell_type": "code",
   "execution_count": 115,
   "metadata": {},
   "outputs": [],
   "source": [
    "text[\"lemmatized\"] = text.apply(lemmatizer_with_pos, axis=1)"
   ]
  },
  {
   "cell_type": "code",
   "execution_count": 116,
   "metadata": {},
   "outputs": [],
   "source": [
    "text[\"no_stopwords\"] = text.apply(remove_sw, axis=1)"
   ]
  },
  {
   "cell_type": "code",
   "execution_count": 117,
   "metadata": {},
   "outputs": [],
   "source": [
    "text[\"clean_blob\"] =  text.apply(re_blob, axis = 1)"
   ]
  },
  {
   "cell_type": "code",
   "execution_count": 118,
   "metadata": {},
   "outputs": [
    {
     "data": {
      "text/plain": [
       "CountVectorizer(max_features=10000)"
      ]
     },
     "execution_count": 118,
     "metadata": {},
     "output_type": "execute_result"
    }
   ],
   "source": [
    "bow_vct = CountVectorizer(max_features=10000)\n",
    "\n",
    "bow_vct.fit(text[\"clean_blob\"])"
   ]
  },
  {
   "cell_type": "code",
   "execution_count": 119,
   "metadata": {},
   "outputs": [],
   "source": [
    "X = bow_vct.transform(text[\"clean_blob\"]).toarray()"
   ]
  },
  {
   "cell_type": "code",
   "execution_count": 120,
   "metadata": {},
   "outputs": [],
   "source": [
    "buisness_df = pd.DataFrame(X, columns=bow_vct.get_feature_names_out())\n",
    "#business_df.to_csv(\"business_words.csv\")"
   ]
  },
  {
   "cell_type": "code",
   "execution_count": 121,
   "metadata": {},
   "outputs": [
    {
     "data": {
      "text/plain": [
       "KMeans(n_clusters=5)"
      ]
     },
     "execution_count": 121,
     "metadata": {},
     "output_type": "execute_result"
    }
   ],
   "source": [
    "km = KMeans(n_clusters=5)\n",
    "\n",
    "km.fit(buisness_df)"
   ]
  },
  {
   "cell_type": "code",
   "execution_count": 110,
   "metadata": {},
   "outputs": [],
   "source": [
    "pickle.dump(bow_vct, open(\"bv_be.p\", \"wb\"))\n",
    "pickle.dump(km, open(\"km_be.p\", \"wb\"))"
   ]
  },
  {
   "cell_type": "code",
   "execution_count": 122,
   "metadata": {},
   "outputs": [],
   "source": [
    "pred = km.predict(buisness_df)"
   ]
  },
  {
   "cell_type": "code",
   "execution_count": 123,
   "metadata": {},
   "outputs": [
    {
     "name": "stderr",
     "output_type": "stream",
     "text": [
      "/var/folders/22/z5s1hrts7vscwhvpw0jtj1cr0000gn/T/ipykernel_5653/4088156334.py:1: SettingWithCopyWarning: \n",
      "A value is trying to be set on a copy of a slice from a DataFrame.\n",
      "Try using .loc[row_indexer,col_indexer] = value instead\n",
      "\n",
      "See the caveats in the documentation: https://pandas.pydata.org/pandas-docs/stable/user_guide/indexing.html#returning-a-view-versus-a-copy\n",
      "  business[\"class\"] = pred\n"
     ]
    }
   ],
   "source": [
    "business[\"class\"] = pred\n",
    "\n",
    "business.to_pickle(\"be_pred.p\")"
   ]
  },
  {
   "cell_type": "markdown",
   "metadata": {},
   "source": [
    "### NLP for Law & Crime"
   ]
  },
  {
   "cell_type": "code",
   "execution_count": 124,
   "metadata": {},
   "outputs": [],
   "source": [
    "text = pd.DataFrame(law_and_crime[\"text\"], columns=[\"text\"])"
   ]
  },
  {
   "cell_type": "code",
   "execution_count": 125,
   "metadata": {},
   "outputs": [],
   "source": [
    "text[\"tokenized\"] =  text.apply(tokenizer_and_remove_punctuation, axis=1)"
   ]
  },
  {
   "cell_type": "code",
   "execution_count": 126,
   "metadata": {},
   "outputs": [],
   "source": [
    "text[\"lemmatized\"] = text.apply(lemmatizer_with_pos, axis=1)"
   ]
  },
  {
   "cell_type": "code",
   "execution_count": 127,
   "metadata": {},
   "outputs": [],
   "source": [
    "text[\"no_stopwords\"] = text.apply(remove_sw, axis=1)"
   ]
  },
  {
   "cell_type": "code",
   "execution_count": 128,
   "metadata": {},
   "outputs": [],
   "source": [
    "text[\"clean_blob\"] =  text.apply(re_blob, axis = 1)"
   ]
  },
  {
   "cell_type": "code",
   "execution_count": 129,
   "metadata": {},
   "outputs": [
    {
     "data": {
      "text/plain": [
       "CountVectorizer(max_features=10000)"
      ]
     },
     "execution_count": 129,
     "metadata": {},
     "output_type": "execute_result"
    }
   ],
   "source": [
    "bow_vct = CountVectorizer(max_features=10000)\n",
    "\n",
    "bow_vct.fit(text[\"clean_blob\"])"
   ]
  },
  {
   "cell_type": "code",
   "execution_count": 130,
   "metadata": {},
   "outputs": [],
   "source": [
    "X = bow_vct.transform(text[\"clean_blob\"]).toarray()"
   ]
  },
  {
   "cell_type": "code",
   "execution_count": 131,
   "metadata": {},
   "outputs": [],
   "source": [
    "law_df = pd.DataFrame(X, columns=bow_vct.get_feature_names_out())\n",
    "#law_df.to_csv(\"lc_words.csv\")"
   ]
  },
  {
   "cell_type": "code",
   "execution_count": 132,
   "metadata": {},
   "outputs": [
    {
     "data": {
      "text/plain": [
       "KMeans(n_clusters=5)"
      ]
     },
     "execution_count": 132,
     "metadata": {},
     "output_type": "execute_result"
    }
   ],
   "source": [
    "km = KMeans(n_clusters=5)\n",
    "\n",
    "km.fit(law_df)"
   ]
  },
  {
   "cell_type": "code",
   "execution_count": 122,
   "metadata": {},
   "outputs": [],
   "source": [
    "pickle.dump(bow_vct, open(\"bv_lc.p\", \"wb\"))\n",
    "pickle.dump(km, open(\"km_lc.p\", \"wb\"))"
   ]
  },
  {
   "cell_type": "code",
   "execution_count": 133,
   "metadata": {},
   "outputs": [],
   "source": [
    "pred = km.predict(law_df)"
   ]
  },
  {
   "cell_type": "code",
   "execution_count": 134,
   "metadata": {},
   "outputs": [
    {
     "name": "stderr",
     "output_type": "stream",
     "text": [
      "/var/folders/22/z5s1hrts7vscwhvpw0jtj1cr0000gn/T/ipykernel_5653/224527004.py:1: SettingWithCopyWarning: \n",
      "A value is trying to be set on a copy of a slice from a DataFrame.\n",
      "Try using .loc[row_indexer,col_indexer] = value instead\n",
      "\n",
      "See the caveats in the documentation: https://pandas.pydata.org/pandas-docs/stable/user_guide/indexing.html#returning-a-view-versus-a-copy\n",
      "  law_and_crime[\"class\"] = pred\n"
     ]
    }
   ],
   "source": [
    "law_and_crime[\"class\"] = pred\n",
    "\n",
    "law_and_crime.to_pickle(\"lc_pred.p\")"
   ]
  },
  {
   "cell_type": "markdown",
   "metadata": {},
   "source": [
    "### NLP for Kids & Fiction"
   ]
  },
  {
   "cell_type": "code",
   "execution_count": 135,
   "metadata": {},
   "outputs": [],
   "source": [
    "text = pd.DataFrame(kids_and_fiction[\"text\"], columns=[\"text\"])"
   ]
  },
  {
   "cell_type": "code",
   "execution_count": 136,
   "metadata": {},
   "outputs": [],
   "source": [
    "text[\"tokenized\"] =  text.apply(tokenizer_and_remove_punctuation, axis=1)"
   ]
  },
  {
   "cell_type": "code",
   "execution_count": 137,
   "metadata": {},
   "outputs": [],
   "source": [
    "text[\"lemmatized\"] = text.apply(lemmatizer_with_pos, axis=1)"
   ]
  },
  {
   "cell_type": "code",
   "execution_count": 138,
   "metadata": {},
   "outputs": [],
   "source": [
    "text[\"no_stopwords\"] = text.apply(remove_sw, axis=1)"
   ]
  },
  {
   "cell_type": "code",
   "execution_count": 139,
   "metadata": {},
   "outputs": [],
   "source": [
    "text[\"clean_blob\"] =  text.apply(re_blob, axis = 1)"
   ]
  },
  {
   "cell_type": "code",
   "execution_count": 140,
   "metadata": {},
   "outputs": [
    {
     "data": {
      "text/plain": [
       "CountVectorizer(max_features=10000)"
      ]
     },
     "execution_count": 140,
     "metadata": {},
     "output_type": "execute_result"
    }
   ],
   "source": [
    "bow_vct = CountVectorizer(max_features=10000)\n",
    "\n",
    "bow_vct.fit(text[\"clean_blob\"])"
   ]
  },
  {
   "cell_type": "code",
   "execution_count": 141,
   "metadata": {},
   "outputs": [],
   "source": [
    "X = bow_vct.transform(text[\"clean_blob\"]).toarray()"
   ]
  },
  {
   "cell_type": "code",
   "execution_count": 142,
   "metadata": {},
   "outputs": [],
   "source": [
    "kids_fiction_df = pd.DataFrame(X, columns=bow_vct.get_feature_names_out())\n",
    "#kids_fiction_df.to_csv(\"kf_words.csv\")"
   ]
  },
  {
   "cell_type": "code",
   "execution_count": 143,
   "metadata": {},
   "outputs": [
    {
     "data": {
      "text/plain": [
       "KMeans(n_clusters=5)"
      ]
     },
     "execution_count": 143,
     "metadata": {},
     "output_type": "execute_result"
    }
   ],
   "source": [
    "km = KMeans(n_clusters=5)\n",
    "\n",
    "km.fit(kids_fiction_df)"
   ]
  },
  {
   "cell_type": "code",
   "execution_count": 134,
   "metadata": {},
   "outputs": [],
   "source": [
    "pickle.dump(bow_vct, open(\"bv_kf.p\", \"wb\"))\n",
    "pickle.dump(km, open(\"km_kf.p\", \"wb\"))"
   ]
  },
  {
   "cell_type": "code",
   "execution_count": 144,
   "metadata": {},
   "outputs": [],
   "source": [
    "pred = km.predict(kids_fiction_df)"
   ]
  },
  {
   "cell_type": "code",
   "execution_count": 145,
   "metadata": {},
   "outputs": [
    {
     "name": "stderr",
     "output_type": "stream",
     "text": [
      "/var/folders/22/z5s1hrts7vscwhvpw0jtj1cr0000gn/T/ipykernel_5653/563256201.py:1: SettingWithCopyWarning: \n",
      "A value is trying to be set on a copy of a slice from a DataFrame.\n",
      "Try using .loc[row_indexer,col_indexer] = value instead\n",
      "\n",
      "See the caveats in the documentation: https://pandas.pydata.org/pandas-docs/stable/user_guide/indexing.html#returning-a-view-versus-a-copy\n",
      "  kids_and_fiction[\"class\"] = pred\n"
     ]
    }
   ],
   "source": [
    "kids_and_fiction[\"class\"] = pred\n",
    "\n",
    "kids_and_fiction.to_pickle(\"kf_pred.p\")"
   ]
  },
  {
   "cell_type": "markdown",
   "metadata": {},
   "source": [
    "### NLP for Other"
   ]
  },
  {
   "cell_type": "code",
   "execution_count": 40,
   "metadata": {},
   "outputs": [],
   "source": [
    "text = pd.DataFrame(other[\"text\"], columns=[\"text\"])"
   ]
  },
  {
   "cell_type": "code",
   "execution_count": null,
   "metadata": {},
   "outputs": [],
   "source": [
    "text[\"tokenized\"] =  text.apply(tokenizer_and_remove_punctuation, axis=1)"
   ]
  },
  {
   "cell_type": "code",
   "execution_count": null,
   "metadata": {},
   "outputs": [],
   "source": [
    "text[\"lemmatized\"] = text.apply(lemmatizer_with_pos, axis=1)\n"
   ]
  },
  {
   "cell_type": "code",
   "execution_count": null,
   "metadata": {},
   "outputs": [],
   "source": [
    "text.to_csv(\"other_lemmatized.cvs\")"
   ]
  },
  {
   "cell_type": "code",
   "execution_count": 81,
   "metadata": {},
   "outputs": [
    {
     "name": "stderr",
     "output_type": "stream",
     "text": [
      "/var/folders/22/z5s1hrts7vscwhvpw0jtj1cr0000gn/T/ipykernel_1330/2341170486.py:1: DtypeWarning: Columns (0,1,2,3) have mixed types. Specify dtype option on import or set low_memory=False.\n",
      "  text = pd.read_csv(\"other_lemmatized.cvs\").drop(columns=\"Unnamed: 0\")\n"
     ]
    }
   ],
   "source": [
    "text = pd.read_csv(\"other_lemmatized.cvs\").drop(columns=\"Unnamed: 0\")"
   ]
  },
  {
   "cell_type": "code",
   "execution_count": 85,
   "metadata": {},
   "outputs": [],
   "source": [
    "text\n",
    "text.drop_duplicates(subset =\"text\",\n",
    "                     keep = False, inplace = True)"
   ]
  },
  {
   "cell_type": "code",
   "execution_count": 86,
   "metadata": {},
   "outputs": [
    {
     "data": {
      "text/html": [
       "<div>\n",
       "<style scoped>\n",
       "    .dataframe tbody tr th:only-of-type {\n",
       "        vertical-align: middle;\n",
       "    }\n",
       "\n",
       "    .dataframe tbody tr th {\n",
       "        vertical-align: top;\n",
       "    }\n",
       "\n",
       "    .dataframe thead th {\n",
       "        text-align: right;\n",
       "    }\n",
       "</style>\n",
       "<table border=\"1\" class=\"dataframe\">\n",
       "  <thead>\n",
       "    <tr style=\"text-align: right;\">\n",
       "      <th></th>\n",
       "      <th>text</th>\n",
       "      <th>tokenized</th>\n",
       "      <th>lemmatized</th>\n",
       "    </tr>\n",
       "  </thead>\n",
       "  <tbody>\n",
       "    <tr>\n",
       "      <th>0</th>\n",
       "      <td>Soldier Five : The Real Truth About The Bravo ...</td>\n",
       "      <td>['soldier', 'five', 'the', 'real', 'truth', 'a...</td>\n",
       "      <td>['soldier', 'five', 'the', 'real', 'truth', 'a...</td>\n",
       "    </tr>\n",
       "    <tr>\n",
       "      <th>2</th>\n",
       "      <td>The Hidden Power of F*cking Up The Try Guys de...</td>\n",
       "      <td>['the', 'hidden', 'power', 'of', 'f', 'cking',...</td>\n",
       "      <td>['the', 'hidden', 'power', 'of', 'f', 'cking',...</td>\n",
       "    </tr>\n",
       "    <tr>\n",
       "      <th>3</th>\n",
       "      <td>The Grand Design When and how did the universe...</td>\n",
       "      <td>['the', 'grand', 'design', 'when', 'and', 'how...</td>\n",
       "      <td>['the', 'grand', 'design', 'when', 'and', 'how...</td>\n",
       "    </tr>\n",
       "    <tr>\n",
       "      <th>4</th>\n",
       "      <td>1,227 QI Facts To Blow Your Socks Off Did you ...</td>\n",
       "      <td>['qi', 'facts', 'to', 'blow', 'your', 'socks',...</td>\n",
       "      <td>['qi', 'fact', 'to', 'blow', 'your', 'sock', '...</td>\n",
       "    </tr>\n",
       "    <tr>\n",
       "      <th>5</th>\n",
       "      <td>The 100 Most Pointless Arguments in the World ...</td>\n",
       "      <td>['the', 'most', 'pointless', 'arguments', 'in'...</td>\n",
       "      <td>['the', 'most', 'pointless', 'argument', 'in',...</td>\n",
       "    </tr>\n",
       "    <tr>\n",
       "      <th>...</th>\n",
       "      <td>...</td>\n",
       "      <td>...</td>\n",
       "      <td>...</td>\n",
       "    </tr>\n",
       "    <tr>\n",
       "      <th>1669925</th>\n",
       "      <td>Backpacking California : Mountain, Foothill, C...</td>\n",
       "      <td>['backpacking', 'california', 'mountain', 'foo...</td>\n",
       "      <td>['backpacking', 'california', 'mountain', 'foo...</td>\n",
       "    </tr>\n",
       "    <tr>\n",
       "      <th>1669926</th>\n",
       "      <td>2020 : Diary, Weekly Planner, Organiser, Year ...</td>\n",
       "      <td>['diary', 'weekly', 'planner', 'organiser', 'y...</td>\n",
       "      <td>['diary', 'weekly', 'planner', 'organiser', 'y...</td>\n",
       "    </tr>\n",
       "    <tr>\n",
       "      <th>1669927</th>\n",
       "      <td>Canoeing and Camping This special re-print edi...</td>\n",
       "      <td>['canoeing', 'and', 'camping', 'this', 'specia...</td>\n",
       "      <td>['canoe', 'and', 'camp', 'this', 'special', 'e...</td>\n",
       "    </tr>\n",
       "    <tr>\n",
       "      <th>1669928</th>\n",
       "      <td>The Complete Guide to Western Horsemanship (Cl...</td>\n",
       "      <td>['the', 'complete', 'guide', 'to', 'western', ...</td>\n",
       "      <td>['the', 'complete', 'guide', 'to', 'western', ...</td>\n",
       "    </tr>\n",
       "    <tr>\n",
       "      <th>1669929</th>\n",
       "      <td>Show Ring Success : A Rider's Guide to Winning...</td>\n",
       "      <td>['show', 'ring', 'success', 'a', 'rider', 'gui...</td>\n",
       "      <td>['show', 'ring', 'success', 'a', 'rider', 'gui...</td>\n",
       "    </tr>\n",
       "  </tbody>\n",
       "</table>\n",
       "<p>458663 rows × 3 columns</p>\n",
       "</div>"
      ],
      "text/plain": [
       "                                                      text  \\\n",
       "0        Soldier Five : The Real Truth About The Bravo ...   \n",
       "2        The Hidden Power of F*cking Up The Try Guys de...   \n",
       "3        The Grand Design When and how did the universe...   \n",
       "4        1,227 QI Facts To Blow Your Socks Off Did you ...   \n",
       "5        The 100 Most Pointless Arguments in the World ...   \n",
       "...                                                    ...   \n",
       "1669925  Backpacking California : Mountain, Foothill, C...   \n",
       "1669926  2020 : Diary, Weekly Planner, Organiser, Year ...   \n",
       "1669927  Canoeing and Camping This special re-print edi...   \n",
       "1669928  The Complete Guide to Western Horsemanship (Cl...   \n",
       "1669929  Show Ring Success : A Rider's Guide to Winning...   \n",
       "\n",
       "                                                 tokenized  \\\n",
       "0        ['soldier', 'five', 'the', 'real', 'truth', 'a...   \n",
       "2        ['the', 'hidden', 'power', 'of', 'f', 'cking',...   \n",
       "3        ['the', 'grand', 'design', 'when', 'and', 'how...   \n",
       "4        ['qi', 'facts', 'to', 'blow', 'your', 'socks',...   \n",
       "5        ['the', 'most', 'pointless', 'arguments', 'in'...   \n",
       "...                                                    ...   \n",
       "1669925  ['backpacking', 'california', 'mountain', 'foo...   \n",
       "1669926  ['diary', 'weekly', 'planner', 'organiser', 'y...   \n",
       "1669927  ['canoeing', 'and', 'camping', 'this', 'specia...   \n",
       "1669928  ['the', 'complete', 'guide', 'to', 'western', ...   \n",
       "1669929  ['show', 'ring', 'success', 'a', 'rider', 'gui...   \n",
       "\n",
       "                                                lemmatized  \n",
       "0        ['soldier', 'five', 'the', 'real', 'truth', 'a...  \n",
       "2        ['the', 'hidden', 'power', 'of', 'f', 'cking',...  \n",
       "3        ['the', 'grand', 'design', 'when', 'and', 'how...  \n",
       "4        ['qi', 'fact', 'to', 'blow', 'your', 'sock', '...  \n",
       "5        ['the', 'most', 'pointless', 'argument', 'in',...  \n",
       "...                                                    ...  \n",
       "1669925  ['backpacking', 'california', 'mountain', 'foo...  \n",
       "1669926  ['diary', 'weekly', 'planner', 'organiser', 'y...  \n",
       "1669927  ['canoe', 'and', 'camp', 'this', 'special', 'e...  \n",
       "1669928  ['the', 'complete', 'guide', 'to', 'western', ...  \n",
       "1669929  ['show', 'ring', 'success', 'a', 'rider', 'gui...  \n",
       "\n",
       "[458663 rows x 3 columns]"
      ]
     },
     "execution_count": 86,
     "metadata": {},
     "output_type": "execute_result"
    }
   ],
   "source": [
    "text"
   ]
  },
  {
   "cell_type": "code",
   "execution_count": 40,
   "metadata": {},
   "outputs": [],
   "source": [
    "def fix_lemmatized(row):\n",
    "    fixed = row.strip(\"[]\").replace(\"'\", \"\").replace(\",\", \"\").split()\n",
    "    return fixed"
   ]
  },
  {
   "cell_type": "code",
   "execution_count": 55,
   "metadata": {},
   "outputs": [
    {
     "name": "stderr",
     "output_type": "stream",
     "text": [
      "/var/folders/22/z5s1hrts7vscwhvpw0jtj1cr0000gn/T/ipykernel_5653/2262842376.py:1: SettingWithCopyWarning: \n",
      "A value is trying to be set on a copy of a slice from a DataFrame\n",
      "\n",
      "See the caveats in the documentation: https://pandas.pydata.org/pandas-docs/stable/user_guide/indexing.html#returning-a-view-versus-a-copy\n",
      "  other.drop_duplicates(subset =\"text\",\n"
     ]
    },
    {
     "data": {
      "text/html": [
       "<div>\n",
       "<style scoped>\n",
       "    .dataframe tbody tr th:only-of-type {\n",
       "        vertical-align: middle;\n",
       "    }\n",
       "\n",
       "    .dataframe tbody tr th {\n",
       "        vertical-align: top;\n",
       "    }\n",
       "\n",
       "    .dataframe thead th {\n",
       "        text-align: right;\n",
       "    }\n",
       "</style>\n",
       "<table border=\"1\" class=\"dataframe\">\n",
       "  <thead>\n",
       "    <tr style=\"text-align: right;\">\n",
       "      <th></th>\n",
       "      <th>authors</th>\n",
       "      <th>categories</th>\n",
       "      <th>description</th>\n",
       "      <th>format</th>\n",
       "      <th>id</th>\n",
       "      <th>image-checksum</th>\n",
       "      <th>image-path</th>\n",
       "      <th>image-url</th>\n",
       "      <th>isbn10</th>\n",
       "      <th>isbn13</th>\n",
       "      <th>lang</th>\n",
       "      <th>publication-date</th>\n",
       "      <th>title</th>\n",
       "      <th>url</th>\n",
       "      <th>text</th>\n",
       "      <th>Genre</th>\n",
       "    </tr>\n",
       "  </thead>\n",
       "  <tbody>\n",
       "    <tr>\n",
       "      <th>0</th>\n",
       "      <td>[1]</td>\n",
       "      <td>[214, 220, 237, 2646, 2647, 2659, 2660, 2679]</td>\n",
       "      <td>SOLDIER FIVE is an elite soldier's explosive m...</td>\n",
       "      <td>1.0</td>\n",
       "      <td>9781840189070</td>\n",
       "      <td>97c8e71f2ec114b34f243074d2091077</td>\n",
       "      <td>full/c/5/2/c529152ea1246c0cb17d6574d302eae6d2e...</td>\n",
       "      <td>https://d1w7fb2mkkr3kw.cloudfront.net/assets/i...</td>\n",
       "      <td>184018907X</td>\n",
       "      <td>9781840189070</td>\n",
       "      <td>en</td>\n",
       "      <td>2004-10-14</td>\n",
       "      <td>Soldier Five : The Real Truth About The Bravo ...</td>\n",
       "      <td>/Soldier-Five-Mike-Coburn/9781840189070</td>\n",
       "      <td>Soldier Five : The Real Truth About The Bravo ...</td>\n",
       "      <td>Other</td>\n",
       "    </tr>\n",
       "    <tr>\n",
       "      <th>4</th>\n",
       "      <td>[9]</td>\n",
       "      <td>[2813, 2980]</td>\n",
       "      <td>The Try Guys deliver their first book-an inspi...</td>\n",
       "      <td>2.0</td>\n",
       "      <td>9780008352516</td>\n",
       "      <td>39c0422c00be90fb9258dd6df9068b1e</td>\n",
       "      <td>full/e/e/a/eea0ff6b6f1882d1862c711a2008e3c35d3...</td>\n",
       "      <td>https://d1w7fb2mkkr3kw.cloudfront.net/assets/i...</td>\n",
       "      <td>8352518</td>\n",
       "      <td>9780008352516</td>\n",
       "      <td>en</td>\n",
       "      <td>2019-06-18</td>\n",
       "      <td>The Hidden Power of F*cking Up</td>\n",
       "      <td>/Hidden-Power-F-cking-Up-Try-Guys/9780008352516</td>\n",
       "      <td>The Hidden Power of F*cking Up The Try Guys de...</td>\n",
       "      <td>Other</td>\n",
       "    </tr>\n",
       "    <tr>\n",
       "      <th>5</th>\n",
       "      <td>[10, 11]</td>\n",
       "      <td>[1520, 1532]</td>\n",
       "      <td>When and how did the universe begin? Why are w...</td>\n",
       "      <td>1.0</td>\n",
       "      <td>9780553819229</td>\n",
       "      <td>bed4d5ee9d3240303ff355e4e383cb47</td>\n",
       "      <td>full/0/a/1/0a1870d010b9ad272d5b20425b56e449eac...</td>\n",
       "      <td>https://d1w7fb2mkkr3kw.cloudfront.net/assets/i...</td>\n",
       "      <td>553819224</td>\n",
       "      <td>9780553819229</td>\n",
       "      <td>en</td>\n",
       "      <td>2015-03-18</td>\n",
       "      <td>The Grand Design</td>\n",
       "      <td>/Grand-Design-Leonard-Mlodinow/9780553819229</td>\n",
       "      <td>The Grand Design When and how did the universe...</td>\n",
       "      <td>Other</td>\n",
       "    </tr>\n",
       "    <tr>\n",
       "      <th>6</th>\n",
       "      <td>[6, 7, 8]</td>\n",
       "      <td>[377, 2978, 2980]</td>\n",
       "      <td>Did you know that: cows moo in regional accent...</td>\n",
       "      <td>1.0</td>\n",
       "      <td>9780571297931</td>\n",
       "      <td>d04552f52c16c90db5511e4f76e78694</td>\n",
       "      <td>full/7/5/3/753715be3dcda52b44ac9b14bce4a5258ec...</td>\n",
       "      <td>https://d1w7fb2mkkr3kw.cloudfront.net/assets/i...</td>\n",
       "      <td>571297935</td>\n",
       "      <td>9780571297931</td>\n",
       "      <td>en</td>\n",
       "      <td>2016-05-05</td>\n",
       "      <td>1,227 QI Facts To Blow Your Socks Off</td>\n",
       "      <td>/1-227-QI-Facts-Blow-Your-Socks-Off-John-Lloyd...</td>\n",
       "      <td>1,227 QI Facts To Blow Your Socks Off Did you ...</td>\n",
       "      <td>Other</td>\n",
       "    </tr>\n",
       "    <tr>\n",
       "      <th>7</th>\n",
       "      <td>[12, 13]</td>\n",
       "      <td>[2980]</td>\n",
       "      <td>We've all had them, those pointless arguments ...</td>\n",
       "      <td>1.0</td>\n",
       "      <td>9781444762082</td>\n",
       "      <td>4be783fe835efc596d95732878612663</td>\n",
       "      <td>full/9/2/a/92a8415be732a03c7e7c2fbe4085edfcec5...</td>\n",
       "      <td>https://d1w7fb2mkkr3kw.cloudfront.net/assets/i...</td>\n",
       "      <td>1444762087</td>\n",
       "      <td>9781444762082</td>\n",
       "      <td>en</td>\n",
       "      <td>2014-05-08</td>\n",
       "      <td>The 100 Most Pointless Arguments in the World ...</td>\n",
       "      <td>/100-Most-Pointless-Arguments-World-Alexander-...</td>\n",
       "      <td>The 100 Most Pointless Arguments in the World ...</td>\n",
       "      <td>Other</td>\n",
       "    </tr>\n",
       "    <tr>\n",
       "      <th>...</th>\n",
       "      <td>...</td>\n",
       "      <td>...</td>\n",
       "      <td>...</td>\n",
       "      <td>...</td>\n",
       "      <td>...</td>\n",
       "      <td>...</td>\n",
       "      <td>...</td>\n",
       "      <td>...</td>\n",
       "      <td>...</td>\n",
       "      <td>...</td>\n",
       "      <td>...</td>\n",
       "      <td>...</td>\n",
       "      <td>...</td>\n",
       "      <td>...</td>\n",
       "      <td>...</td>\n",
       "      <td>...</td>\n",
       "    </tr>\n",
       "    <tr>\n",
       "      <th>1109369</th>\n",
       "      <td>[483284]</td>\n",
       "      <td>[2770, 3092, 3100, 3101]</td>\n",
       "      <td>Prepare for a Lifetime of Awe-Inspiring Advent...</td>\n",
       "      <td>1.0</td>\n",
       "      <td>9780899979588</td>\n",
       "      <td>8bdeb6c67d511cf28f3bc43ed27d43de</td>\n",
       "      <td>full/6/2/e/62e74b7b263f06fe57f053521c7a958740e...</td>\n",
       "      <td>https://d1w7fb2mkkr3kw.cloudfront.net/assets/i...</td>\n",
       "      <td>899979580</td>\n",
       "      <td>9780899979588</td>\n",
       "      <td>en</td>\n",
       "      <td>2020-11-12</td>\n",
       "      <td>Backpacking California : Mountain, Foothill, C...</td>\n",
       "      <td>/Backpacking-California-Wilderness-Press/97808...</td>\n",
       "      <td>Backpacking California : Mountain, Foothill, C...</td>\n",
       "      <td>Other</td>\n",
       "    </tr>\n",
       "    <tr>\n",
       "      <th>1109379</th>\n",
       "      <td>[336369]</td>\n",
       "      <td>[3045, 3054, 3068, 3086]</td>\n",
       "      <td>This 2020 Diary/Planner has one week per 2 pag...</td>\n",
       "      <td>1.0</td>\n",
       "      <td>9781711791968</td>\n",
       "      <td>d9f083c9c171c71b1df27f6dc2d66ba1</td>\n",
       "      <td>full/4/d/4/4d4766e368dc599bf375c320460042c36b8...</td>\n",
       "      <td>https://d1w7fb2mkkr3kw.cloudfront.net/assets/i...</td>\n",
       "      <td>1711791962</td>\n",
       "      <td>9781711791968</td>\n",
       "      <td>en</td>\n",
       "      <td>2019-11-25</td>\n",
       "      <td>2020 : Diary, Weekly Planner, Organiser, Year ...</td>\n",
       "      <td>/2020-Annie-Mac-Journals/9781711791968</td>\n",
       "      <td>2020 : Diary, Weekly Planner, Organiser, Year ...</td>\n",
       "      <td>Other</td>\n",
       "    </tr>\n",
       "    <tr>\n",
       "      <th>1109380</th>\n",
       "      <td>[29792, 654019]</td>\n",
       "      <td>[3096]</td>\n",
       "      <td>This special re-print edition of James A. Crui...</td>\n",
       "      <td>1.0</td>\n",
       "      <td>9781792858017</td>\n",
       "      <td>98d28c0af6a2b740ba009490a30d17ed</td>\n",
       "      <td>full/9/e/7/9e7db64b6b3eb2626731745beb513c2a3db...</td>\n",
       "      <td>https://d1w7fb2mkkr3kw.cloudfront.net/assets/i...</td>\n",
       "      <td>1792858019</td>\n",
       "      <td>9781792858017</td>\n",
       "      <td>en</td>\n",
       "      <td>2018-12-28</td>\n",
       "      <td>Canoeing and Camping</td>\n",
       "      <td>/Canoeing-Camping-James-Cruikshank/9781792858017</td>\n",
       "      <td>Canoeing and Camping This special re-print edi...</td>\n",
       "      <td>Other</td>\n",
       "    </tr>\n",
       "    <tr>\n",
       "      <th>1109381</th>\n",
       "      <td>[654020]</td>\n",
       "      <td>[3054, 3056]</td>\n",
       "      <td>Good western riding doesn't just happen. J.P. ...</td>\n",
       "      <td>2.0</td>\n",
       "      <td>9780876059821</td>\n",
       "      <td>cafe5abe83e39958c776c1f7fb2d93e6</td>\n",
       "      <td>full/d/2/c/d2c178a62b1e98158abdb695678ae8b8238...</td>\n",
       "      <td>https://d1w7fb2mkkr3kw.cloudfront.net/assets/i...</td>\n",
       "      <td>876059825</td>\n",
       "      <td>9780876059821</td>\n",
       "      <td>en</td>\n",
       "      <td>1995-04-12</td>\n",
       "      <td>The Complete Guide to Western Horsemanship (Cl...</td>\n",
       "      <td>/Complete-Guide-Western-Horsemanship-Cloth-For...</td>\n",
       "      <td>The Complete Guide to Western Horsemanship (Cl...</td>\n",
       "      <td>Other</td>\n",
       "    </tr>\n",
       "    <tr>\n",
       "      <th>1109382</th>\n",
       "      <td>[654021]</td>\n",
       "      <td>[3002, 3055, 3056]</td>\n",
       "      <td>This complete guide tells how to develop the h...</td>\n",
       "      <td>2.0</td>\n",
       "      <td>9780876059654</td>\n",
       "      <td>ffe175c4bc0e42ddee01bf42d0ed626e</td>\n",
       "      <td>full/6/0/b/60b15d03d09fe2ffc1316d24c28f373838f...</td>\n",
       "      <td>https://d1w7fb2mkkr3kw.cloudfront.net/assets/i...</td>\n",
       "      <td>876059655</td>\n",
       "      <td>9780876059654</td>\n",
       "      <td>en</td>\n",
       "      <td>1993-10-01</td>\n",
       "      <td>Show Ring Success : A Rider's Guide to Winning...</td>\n",
       "      <td>/Show-Ring-Success-Kathleen-Obenland/978087605...</td>\n",
       "      <td>Show Ring Success : A Rider's Guide to Winning...</td>\n",
       "      <td>Other</td>\n",
       "    </tr>\n",
       "  </tbody>\n",
       "</table>\n",
       "<p>458663 rows × 16 columns</p>\n",
       "</div>"
      ],
      "text/plain": [
       "                 authors                                     categories  \\\n",
       "0                    [1]  [214, 220, 237, 2646, 2647, 2659, 2660, 2679]   \n",
       "4                    [9]                                   [2813, 2980]   \n",
       "5               [10, 11]                                   [1520, 1532]   \n",
       "6              [6, 7, 8]                              [377, 2978, 2980]   \n",
       "7               [12, 13]                                         [2980]   \n",
       "...                  ...                                            ...   \n",
       "1109369         [483284]                       [2770, 3092, 3100, 3101]   \n",
       "1109379         [336369]                       [3045, 3054, 3068, 3086]   \n",
       "1109380  [29792, 654019]                                         [3096]   \n",
       "1109381         [654020]                                   [3054, 3056]   \n",
       "1109382         [654021]                             [3002, 3055, 3056]   \n",
       "\n",
       "                                               description  format  \\\n",
       "0        SOLDIER FIVE is an elite soldier's explosive m...     1.0   \n",
       "4        The Try Guys deliver their first book-an inspi...     2.0   \n",
       "5        When and how did the universe begin? Why are w...     1.0   \n",
       "6        Did you know that: cows moo in regional accent...     1.0   \n",
       "7        We've all had them, those pointless arguments ...     1.0   \n",
       "...                                                    ...     ...   \n",
       "1109369  Prepare for a Lifetime of Awe-Inspiring Advent...     1.0   \n",
       "1109379  This 2020 Diary/Planner has one week per 2 pag...     1.0   \n",
       "1109380  This special re-print edition of James A. Crui...     1.0   \n",
       "1109381  Good western riding doesn't just happen. J.P. ...     2.0   \n",
       "1109382  This complete guide tells how to develop the h...     2.0   \n",
       "\n",
       "                    id                    image-checksum  \\\n",
       "0        9781840189070  97c8e71f2ec114b34f243074d2091077   \n",
       "4        9780008352516  39c0422c00be90fb9258dd6df9068b1e   \n",
       "5        9780553819229  bed4d5ee9d3240303ff355e4e383cb47   \n",
       "6        9780571297931  d04552f52c16c90db5511e4f76e78694   \n",
       "7        9781444762082  4be783fe835efc596d95732878612663   \n",
       "...                ...                               ...   \n",
       "1109369  9780899979588  8bdeb6c67d511cf28f3bc43ed27d43de   \n",
       "1109379  9781711791968  d9f083c9c171c71b1df27f6dc2d66ba1   \n",
       "1109380  9781792858017  98d28c0af6a2b740ba009490a30d17ed   \n",
       "1109381  9780876059821  cafe5abe83e39958c776c1f7fb2d93e6   \n",
       "1109382  9780876059654  ffe175c4bc0e42ddee01bf42d0ed626e   \n",
       "\n",
       "                                                image-path  \\\n",
       "0        full/c/5/2/c529152ea1246c0cb17d6574d302eae6d2e...   \n",
       "4        full/e/e/a/eea0ff6b6f1882d1862c711a2008e3c35d3...   \n",
       "5        full/0/a/1/0a1870d010b9ad272d5b20425b56e449eac...   \n",
       "6        full/7/5/3/753715be3dcda52b44ac9b14bce4a5258ec...   \n",
       "7        full/9/2/a/92a8415be732a03c7e7c2fbe4085edfcec5...   \n",
       "...                                                    ...   \n",
       "1109369  full/6/2/e/62e74b7b263f06fe57f053521c7a958740e...   \n",
       "1109379  full/4/d/4/4d4766e368dc599bf375c320460042c36b8...   \n",
       "1109380  full/9/e/7/9e7db64b6b3eb2626731745beb513c2a3db...   \n",
       "1109381  full/d/2/c/d2c178a62b1e98158abdb695678ae8b8238...   \n",
       "1109382  full/6/0/b/60b15d03d09fe2ffc1316d24c28f373838f...   \n",
       "\n",
       "                                                 image-url      isbn10  \\\n",
       "0        https://d1w7fb2mkkr3kw.cloudfront.net/assets/i...  184018907X   \n",
       "4        https://d1w7fb2mkkr3kw.cloudfront.net/assets/i...     8352518   \n",
       "5        https://d1w7fb2mkkr3kw.cloudfront.net/assets/i...   553819224   \n",
       "6        https://d1w7fb2mkkr3kw.cloudfront.net/assets/i...   571297935   \n",
       "7        https://d1w7fb2mkkr3kw.cloudfront.net/assets/i...  1444762087   \n",
       "...                                                    ...         ...   \n",
       "1109369  https://d1w7fb2mkkr3kw.cloudfront.net/assets/i...   899979580   \n",
       "1109379  https://d1w7fb2mkkr3kw.cloudfront.net/assets/i...  1711791962   \n",
       "1109380  https://d1w7fb2mkkr3kw.cloudfront.net/assets/i...  1792858019   \n",
       "1109381  https://d1w7fb2mkkr3kw.cloudfront.net/assets/i...   876059825   \n",
       "1109382  https://d1w7fb2mkkr3kw.cloudfront.net/assets/i...   876059655   \n",
       "\n",
       "                isbn13 lang publication-date  \\\n",
       "0        9781840189070   en       2004-10-14   \n",
       "4        9780008352516   en       2019-06-18   \n",
       "5        9780553819229   en       2015-03-18   \n",
       "6        9780571297931   en       2016-05-05   \n",
       "7        9781444762082   en       2014-05-08   \n",
       "...                ...  ...              ...   \n",
       "1109369  9780899979588   en       2020-11-12   \n",
       "1109379  9781711791968   en       2019-11-25   \n",
       "1109380  9781792858017   en       2018-12-28   \n",
       "1109381  9780876059821   en       1995-04-12   \n",
       "1109382  9780876059654   en       1993-10-01   \n",
       "\n",
       "                                                     title  \\\n",
       "0        Soldier Five : The Real Truth About The Bravo ...   \n",
       "4                           The Hidden Power of F*cking Up   \n",
       "5                                         The Grand Design   \n",
       "6                    1,227 QI Facts To Blow Your Socks Off   \n",
       "7        The 100 Most Pointless Arguments in the World ...   \n",
       "...                                                    ...   \n",
       "1109369  Backpacking California : Mountain, Foothill, C...   \n",
       "1109379  2020 : Diary, Weekly Planner, Organiser, Year ...   \n",
       "1109380                               Canoeing and Camping   \n",
       "1109381  The Complete Guide to Western Horsemanship (Cl...   \n",
       "1109382  Show Ring Success : A Rider's Guide to Winning...   \n",
       "\n",
       "                                                       url  \\\n",
       "0                  /Soldier-Five-Mike-Coburn/9781840189070   \n",
       "4          /Hidden-Power-F-cking-Up-Try-Guys/9780008352516   \n",
       "5             /Grand-Design-Leonard-Mlodinow/9780553819229   \n",
       "6        /1-227-QI-Facts-Blow-Your-Socks-Off-John-Lloyd...   \n",
       "7        /100-Most-Pointless-Arguments-World-Alexander-...   \n",
       "...                                                    ...   \n",
       "1109369  /Backpacking-California-Wilderness-Press/97808...   \n",
       "1109379             /2020-Annie-Mac-Journals/9781711791968   \n",
       "1109380   /Canoeing-Camping-James-Cruikshank/9781792858017   \n",
       "1109381  /Complete-Guide-Western-Horsemanship-Cloth-For...   \n",
       "1109382  /Show-Ring-Success-Kathleen-Obenland/978087605...   \n",
       "\n",
       "                                                      text  Genre  \n",
       "0        Soldier Five : The Real Truth About The Bravo ...  Other  \n",
       "4        The Hidden Power of F*cking Up The Try Guys de...  Other  \n",
       "5        The Grand Design When and how did the universe...  Other  \n",
       "6        1,227 QI Facts To Blow Your Socks Off Did you ...  Other  \n",
       "7        The 100 Most Pointless Arguments in the World ...  Other  \n",
       "...                                                    ...    ...  \n",
       "1109369  Backpacking California : Mountain, Foothill, C...  Other  \n",
       "1109379  2020 : Diary, Weekly Planner, Organiser, Year ...  Other  \n",
       "1109380  Canoeing and Camping This special re-print edi...  Other  \n",
       "1109381  The Complete Guide to Western Horsemanship (Cl...  Other  \n",
       "1109382  Show Ring Success : A Rider's Guide to Winning...  Other  \n",
       "\n",
       "[458663 rows x 16 columns]"
      ]
     },
     "execution_count": 55,
     "metadata": {},
     "output_type": "execute_result"
    }
   ],
   "source": [
    "other.drop_duplicates(subset =\"text\",\n",
    "                     keep = False, inplace = True)\n",
    "other"
   ]
  },
  {
   "cell_type": "code",
   "execution_count": 114,
   "metadata": {},
   "outputs": [],
   "source": [
    "text[\"lemmatized\"] = text[\"lemmatized\"].astype('str').apply(fix_lemmatized)"
   ]
  },
  {
   "cell_type": "code",
   "execution_count": 115,
   "metadata": {},
   "outputs": [],
   "source": [
    "text[\"no_stopwords\"] = text.apply(remove_sw, axis=1)"
   ]
  },
  {
   "cell_type": "code",
   "execution_count": 116,
   "metadata": {},
   "outputs": [],
   "source": [
    "text.to_csv(\"other_nostopwords.cvs\")"
   ]
  },
  {
   "cell_type": "code",
   "execution_count": 42,
   "metadata": {},
   "outputs": [],
   "source": [
    "text = pd.read_csv(\"other_nostopwords.cvs\").drop(columns=\"Unnamed: 0\")"
   ]
  },
  {
   "cell_type": "code",
   "execution_count": 43,
   "metadata": {},
   "outputs": [],
   "source": [
    "text[\"no_stopwords\"] = text[\"no_stopwords\"].astype('str').apply(fix_lemmatized)"
   ]
  },
  {
   "cell_type": "code",
   "execution_count": 37,
   "metadata": {},
   "outputs": [
    {
     "data": {
      "text/plain": [
       "458663"
      ]
     },
     "execution_count": 37,
     "metadata": {},
     "output_type": "execute_result"
    }
   ],
   "source": [
    "len(text)"
   ]
  },
  {
   "cell_type": "code",
   "execution_count": 38,
   "metadata": {},
   "outputs": [
    {
     "data": {
      "text/plain": [
       "458663"
      ]
     },
     "execution_count": 38,
     "metadata": {},
     "output_type": "execute_result"
    }
   ],
   "source": [
    "len(other)"
   ]
  },
  {
   "cell_type": "code",
   "execution_count": 44,
   "metadata": {},
   "outputs": [],
   "source": [
    "text[\"clean_blob\"] =  text.apply(re_blob, axis = 1)"
   ]
  },
  {
   "cell_type": "code",
   "execution_count": 45,
   "metadata": {},
   "outputs": [
    {
     "data": {
      "text/plain": [
       "CountVectorizer(max_features=10000)"
      ]
     },
     "execution_count": 45,
     "metadata": {},
     "output_type": "execute_result"
    }
   ],
   "source": [
    "bow_vct = CountVectorizer(max_features=10000)\n",
    "\n",
    "bow_vct.fit(text[\"clean_blob\"])"
   ]
  },
  {
   "cell_type": "code",
   "execution_count": 46,
   "metadata": {},
   "outputs": [],
   "source": [
    "X = bow_vct.transform(text[\"clean_blob\"]).toarray()"
   ]
  },
  {
   "cell_type": "code",
   "execution_count": 47,
   "metadata": {},
   "outputs": [],
   "source": [
    "other_df = pd.DataFrame(X, columns=bow_vct.get_feature_names_out())"
   ]
  },
  {
   "cell_type": "code",
   "execution_count": 48,
   "metadata": {},
   "outputs": [
    {
     "data": {
      "text/plain": [
       "KMeans(n_clusters=5)"
      ]
     },
     "execution_count": 48,
     "metadata": {},
     "output_type": "execute_result"
    }
   ],
   "source": [
    "from sklearn.cluster import KMeans\n",
    "\n",
    "km = KMeans(n_clusters=5)\n",
    "\n",
    "km.fit(other_df.sample(n=100000))"
   ]
  },
  {
   "cell_type": "code",
   "execution_count": 49,
   "metadata": {},
   "outputs": [],
   "source": [
    "pickle.dump(bow_vct, open(\"bv_o.p\", \"wb\"))\n",
    "pickle.dump(km, open(\"km_o.p\", \"wb\"))"
   ]
  },
  {
   "cell_type": "code",
   "execution_count": 50,
   "metadata": {},
   "outputs": [],
   "source": [
    "pred = km.predict(other_df)"
   ]
  },
  {
   "cell_type": "code",
   "execution_count": null,
   "metadata": {},
   "outputs": [],
   "source": [
    "other['class'] = pred\n",
    "\n"
   ]
  },
  {
   "cell_type": "code",
   "execution_count": 83,
   "metadata": {},
   "outputs": [],
   "source": [
    "other.to_pickle(\"oth_pred2.p\")"
   ]
  },
  {
   "cell_type": "code",
   "execution_count": 88,
   "metadata": {},
   "outputs": [
    {
     "name": "stderr",
     "output_type": "stream",
     "text": [
      "/var/folders/22/z5s1hrts7vscwhvpw0jtj1cr0000gn/T/ipykernel_4288/3790721323.py:1: DtypeWarning: Columns (0,1,2,3,4,5,6,7,8,9,10,11,12,13,14,15,16) have mixed types. Specify dtype option on import or set low_memory=False.\n",
      "  pd.read_csv(\"oth_pred2.csv\", low_memory=True)\n"
     ]
    },
    {
     "data": {
      "text/html": [
       "<div>\n",
       "<style scoped>\n",
       "    .dataframe tbody tr th:only-of-type {\n",
       "        vertical-align: middle;\n",
       "    }\n",
       "\n",
       "    .dataframe tbody tr th {\n",
       "        vertical-align: top;\n",
       "    }\n",
       "\n",
       "    .dataframe thead th {\n",
       "        text-align: right;\n",
       "    }\n",
       "</style>\n",
       "<table border=\"1\" class=\"dataframe\">\n",
       "  <thead>\n",
       "    <tr style=\"text-align: right;\">\n",
       "      <th></th>\n",
       "      <th>Unnamed: 0</th>\n",
       "      <th>authors</th>\n",
       "      <th>categories</th>\n",
       "      <th>description</th>\n",
       "      <th>format</th>\n",
       "      <th>id</th>\n",
       "      <th>image-checksum</th>\n",
       "      <th>image-path</th>\n",
       "      <th>image-url</th>\n",
       "      <th>isbn10</th>\n",
       "      <th>isbn13</th>\n",
       "      <th>lang</th>\n",
       "      <th>publication-date</th>\n",
       "      <th>title</th>\n",
       "      <th>url</th>\n",
       "      <th>text</th>\n",
       "      <th>Genre</th>\n",
       "      <th>class</th>\n",
       "    </tr>\n",
       "  </thead>\n",
       "  <tbody>\n",
       "    <tr>\n",
       "      <th>0</th>\n",
       "      <td>0</td>\n",
       "      <td>[1]</td>\n",
       "      <td>[214, 220, 237, 2646, 2647, 2659, 2660, 2679]</td>\n",
       "      <td>SOLDIER FIVE is an elite soldier's explosive m...</td>\n",
       "      <td>1.0</td>\n",
       "      <td>9781840189070</td>\n",
       "      <td>97c8e71f2ec114b34f243074d2091077</td>\n",
       "      <td>full/c/5/2/c529152ea1246c0cb17d6574d302eae6d2e...</td>\n",
       "      <td>https://d1w7fb2mkkr3kw.cloudfront.net/assets/i...</td>\n",
       "      <td>184018907X</td>\n",
       "      <td>9781840189070</td>\n",
       "      <td>en</td>\n",
       "      <td>2004-10-14</td>\n",
       "      <td>Soldier Five : The Real Truth About The Bravo ...</td>\n",
       "      <td>/Soldier-Five-Mike-Coburn/9781840189070</td>\n",
       "      <td>Soldier Five : The Real Truth About The Bravo ...</td>\n",
       "      <td>Other</td>\n",
       "      <td>1.0</td>\n",
       "    </tr>\n",
       "    <tr>\n",
       "      <th>1</th>\n",
       "      <td>4</td>\n",
       "      <td>[9]</td>\n",
       "      <td>[2813, 2980]</td>\n",
       "      <td>The Try Guys deliver their first book-an inspi...</td>\n",
       "      <td>2.0</td>\n",
       "      <td>9780008352516</td>\n",
       "      <td>39c0422c00be90fb9258dd6df9068b1e</td>\n",
       "      <td>full/e/e/a/eea0ff6b6f1882d1862c711a2008e3c35d3...</td>\n",
       "      <td>https://d1w7fb2mkkr3kw.cloudfront.net/assets/i...</td>\n",
       "      <td>8352518</td>\n",
       "      <td>9780008352516</td>\n",
       "      <td>en</td>\n",
       "      <td>2019-06-18</td>\n",
       "      <td>The Hidden Power of F*cking Up</td>\n",
       "      <td>/Hidden-Power-F-cking-Up-Try-Guys/9780008352516</td>\n",
       "      <td>The Hidden Power of F*cking Up The Try Guys de...</td>\n",
       "      <td>Other</td>\n",
       "      <td>4.0</td>\n",
       "    </tr>\n",
       "    <tr>\n",
       "      <th>2</th>\n",
       "      <td>5</td>\n",
       "      <td>[10, 11]</td>\n",
       "      <td>[1520, 1532]</td>\n",
       "      <td>When and how did the universe begin? Why are w...</td>\n",
       "      <td>1.0</td>\n",
       "      <td>9780553819229</td>\n",
       "      <td>bed4d5ee9d3240303ff355e4e383cb47</td>\n",
       "      <td>full/0/a/1/0a1870d010b9ad272d5b20425b56e449eac...</td>\n",
       "      <td>https://d1w7fb2mkkr3kw.cloudfront.net/assets/i...</td>\n",
       "      <td>553819224</td>\n",
       "      <td>9780553819229</td>\n",
       "      <td>en</td>\n",
       "      <td>2015-03-18</td>\n",
       "      <td>The Grand Design</td>\n",
       "      <td>/Grand-Design-Leonard-Mlodinow/9780553819229</td>\n",
       "      <td>The Grand Design When and how did the universe...</td>\n",
       "      <td>Other</td>\n",
       "      <td>4.0</td>\n",
       "    </tr>\n",
       "    <tr>\n",
       "      <th>3</th>\n",
       "      <td>6</td>\n",
       "      <td>[6, 7, 8]</td>\n",
       "      <td>[377, 2978, 2980]</td>\n",
       "      <td>Did you know that: cows moo in regional accent...</td>\n",
       "      <td>1.0</td>\n",
       "      <td>9780571297931</td>\n",
       "      <td>d04552f52c16c90db5511e4f76e78694</td>\n",
       "      <td>full/7/5/3/753715be3dcda52b44ac9b14bce4a5258ec...</td>\n",
       "      <td>https://d1w7fb2mkkr3kw.cloudfront.net/assets/i...</td>\n",
       "      <td>571297935</td>\n",
       "      <td>9780571297931</td>\n",
       "      <td>en</td>\n",
       "      <td>2016-05-05</td>\n",
       "      <td>1,227 QI Facts To Blow Your Socks Off</td>\n",
       "      <td>/1-227-QI-Facts-Blow-Your-Socks-Off-John-Lloyd...</td>\n",
       "      <td>1,227 QI Facts To Blow Your Socks Off Did you ...</td>\n",
       "      <td>Other</td>\n",
       "      <td>4.0</td>\n",
       "    </tr>\n",
       "    <tr>\n",
       "      <th>4</th>\n",
       "      <td>7</td>\n",
       "      <td>[12, 13]</td>\n",
       "      <td>[2980]</td>\n",
       "      <td>We've all had them, those pointless arguments ...</td>\n",
       "      <td>1.0</td>\n",
       "      <td>9781444762082</td>\n",
       "      <td>4be783fe835efc596d95732878612663</td>\n",
       "      <td>full/9/2/a/92a8415be732a03c7e7c2fbe4085edfcec5...</td>\n",
       "      <td>https://d1w7fb2mkkr3kw.cloudfront.net/assets/i...</td>\n",
       "      <td>1444762087</td>\n",
       "      <td>9781444762082</td>\n",
       "      <td>en</td>\n",
       "      <td>2014-05-08</td>\n",
       "      <td>The 100 Most Pointless Arguments in the World ...</td>\n",
       "      <td>/100-Most-Pointless-Arguments-World-Alexander-...</td>\n",
       "      <td>The 100 Most Pointless Arguments in the World ...</td>\n",
       "      <td>Other</td>\n",
       "      <td>1.0</td>\n",
       "    </tr>\n",
       "    <tr>\n",
       "      <th>...</th>\n",
       "      <td>...</td>\n",
       "      <td>...</td>\n",
       "      <td>...</td>\n",
       "      <td>...</td>\n",
       "      <td>...</td>\n",
       "      <td>...</td>\n",
       "      <td>...</td>\n",
       "      <td>...</td>\n",
       "      <td>...</td>\n",
       "      <td>...</td>\n",
       "      <td>...</td>\n",
       "      <td>...</td>\n",
       "      <td>...</td>\n",
       "      <td>...</td>\n",
       "      <td>...</td>\n",
       "      <td>...</td>\n",
       "      <td>...</td>\n",
       "      <td>...</td>\n",
       "    </tr>\n",
       "    <tr>\n",
       "      <th>1253345</th>\n",
       "      <td>1109369</td>\n",
       "      <td>[483284]</td>\n",
       "      <td>[2770, 3092, 3100, 3101]</td>\n",
       "      <td>Prepare for a Lifetime of Awe-Inspiring Advent...</td>\n",
       "      <td>1.0</td>\n",
       "      <td>9780899979588</td>\n",
       "      <td>8bdeb6c67d511cf28f3bc43ed27d43de</td>\n",
       "      <td>full/6/2/e/62e74b7b263f06fe57f053521c7a958740e...</td>\n",
       "      <td>https://d1w7fb2mkkr3kw.cloudfront.net/assets/i...</td>\n",
       "      <td>899979580</td>\n",
       "      <td>9780899979588</td>\n",
       "      <td>en</td>\n",
       "      <td>2020-11-12</td>\n",
       "      <td>Backpacking California : Mountain, Foothill, C...</td>\n",
       "      <td>/Backpacking-California-Wilderness-Press/97808...</td>\n",
       "      <td>Backpacking California : Mountain, Foothill, C...</td>\n",
       "      <td>Other</td>\n",
       "      <td>4.0</td>\n",
       "    </tr>\n",
       "    <tr>\n",
       "      <th>1253346</th>\n",
       "      <td>1109379</td>\n",
       "      <td>[336369]</td>\n",
       "      <td>[3045, 3054, 3068, 3086]</td>\n",
       "      <td>This 2020 Diary/Planner has one week per 2 pag...</td>\n",
       "      <td>1.0</td>\n",
       "      <td>9781711791968</td>\n",
       "      <td>d9f083c9c171c71b1df27f6dc2d66ba1</td>\n",
       "      <td>full/4/d/4/4d4766e368dc599bf375c320460042c36b8...</td>\n",
       "      <td>https://d1w7fb2mkkr3kw.cloudfront.net/assets/i...</td>\n",
       "      <td>1711791962</td>\n",
       "      <td>9781711791968</td>\n",
       "      <td>en</td>\n",
       "      <td>2019-11-25</td>\n",
       "      <td>2020 : Diary, Weekly Planner, Organiser, Year ...</td>\n",
       "      <td>/2020-Annie-Mac-Journals/9781711791968</td>\n",
       "      <td>2020 : Diary, Weekly Planner, Organiser, Year ...</td>\n",
       "      <td>Other</td>\n",
       "      <td>4.0</td>\n",
       "    </tr>\n",
       "    <tr>\n",
       "      <th>1253347</th>\n",
       "      <td>1109380</td>\n",
       "      <td>[29792, 654019]</td>\n",
       "      <td>[3096]</td>\n",
       "      <td>This special re-print edition of James A. Crui...</td>\n",
       "      <td>1.0</td>\n",
       "      <td>9781792858017</td>\n",
       "      <td>98d28c0af6a2b740ba009490a30d17ed</td>\n",
       "      <td>full/9/e/7/9e7db64b6b3eb2626731745beb513c2a3db...</td>\n",
       "      <td>https://d1w7fb2mkkr3kw.cloudfront.net/assets/i...</td>\n",
       "      <td>1792858019</td>\n",
       "      <td>9781792858017</td>\n",
       "      <td>en</td>\n",
       "      <td>2018-12-28</td>\n",
       "      <td>Canoeing and Camping</td>\n",
       "      <td>/Canoeing-Camping-James-Cruikshank/9781792858017</td>\n",
       "      <td>Canoeing and Camping This special re-print edi...</td>\n",
       "      <td>Other</td>\n",
       "      <td>4.0</td>\n",
       "    </tr>\n",
       "    <tr>\n",
       "      <th>1253348</th>\n",
       "      <td>1109381</td>\n",
       "      <td>[654020]</td>\n",
       "      <td>[3054, 3056]</td>\n",
       "      <td>Good western riding doesn't just happen. J.P. ...</td>\n",
       "      <td>2.0</td>\n",
       "      <td>9780876059821</td>\n",
       "      <td>cafe5abe83e39958c776c1f7fb2d93e6</td>\n",
       "      <td>full/d/2/c/d2c178a62b1e98158abdb695678ae8b8238...</td>\n",
       "      <td>https://d1w7fb2mkkr3kw.cloudfront.net/assets/i...</td>\n",
       "      <td>876059825</td>\n",
       "      <td>9780876059821</td>\n",
       "      <td>en</td>\n",
       "      <td>1995-04-12</td>\n",
       "      <td>The Complete Guide to Western Horsemanship (Cl...</td>\n",
       "      <td>/Complete-Guide-Western-Horsemanship-Cloth-For...</td>\n",
       "      <td>The Complete Guide to Western Horsemanship (Cl...</td>\n",
       "      <td>Other</td>\n",
       "      <td>4.0</td>\n",
       "    </tr>\n",
       "    <tr>\n",
       "      <th>1253349</th>\n",
       "      <td>1109382</td>\n",
       "      <td>[654021]</td>\n",
       "      <td>[3002, 3055, 3056]</td>\n",
       "      <td>This complete guide tells how to develop the h...</td>\n",
       "      <td>2.0</td>\n",
       "      <td>9780876059654</td>\n",
       "      <td>ffe175c4bc0e42ddee01bf42d0ed626e</td>\n",
       "      <td>full/6/0/b/60b15d03d09fe2ffc1316d24c28f373838f...</td>\n",
       "      <td>https://d1w7fb2mkkr3kw.cloudfront.net/assets/i...</td>\n",
       "      <td>876059655</td>\n",
       "      <td>9780876059654</td>\n",
       "      <td>en</td>\n",
       "      <td>1993-10-01</td>\n",
       "      <td>Show Ring Success : A Rider's Guide to Winning...</td>\n",
       "      <td>/Show-Ring-Success-Kathleen-Obenland/978087605...</td>\n",
       "      <td>Show Ring Success : A Rider's Guide to Winning...</td>\n",
       "      <td>Other</td>\n",
       "      <td>4.0</td>\n",
       "    </tr>\n",
       "  </tbody>\n",
       "</table>\n",
       "<p>1253350 rows × 18 columns</p>\n",
       "</div>"
      ],
      "text/plain": [
       "        Unnamed: 0          authors  \\\n",
       "0                0              [1]   \n",
       "1                4              [9]   \n",
       "2                5         [10, 11]   \n",
       "3                6        [6, 7, 8]   \n",
       "4                7         [12, 13]   \n",
       "...            ...              ...   \n",
       "1253345    1109369         [483284]   \n",
       "1253346    1109379         [336369]   \n",
       "1253347    1109380  [29792, 654019]   \n",
       "1253348    1109381         [654020]   \n",
       "1253349    1109382         [654021]   \n",
       "\n",
       "                                            categories  \\\n",
       "0        [214, 220, 237, 2646, 2647, 2659, 2660, 2679]   \n",
       "1                                         [2813, 2980]   \n",
       "2                                         [1520, 1532]   \n",
       "3                                    [377, 2978, 2980]   \n",
       "4                                               [2980]   \n",
       "...                                                ...   \n",
       "1253345                       [2770, 3092, 3100, 3101]   \n",
       "1253346                       [3045, 3054, 3068, 3086]   \n",
       "1253347                                         [3096]   \n",
       "1253348                                   [3054, 3056]   \n",
       "1253349                             [3002, 3055, 3056]   \n",
       "\n",
       "                                               description format  \\\n",
       "0        SOLDIER FIVE is an elite soldier's explosive m...    1.0   \n",
       "1        The Try Guys deliver their first book-an inspi...    2.0   \n",
       "2        When and how did the universe begin? Why are w...    1.0   \n",
       "3        Did you know that: cows moo in regional accent...    1.0   \n",
       "4        We've all had them, those pointless arguments ...    1.0   \n",
       "...                                                    ...    ...   \n",
       "1253345  Prepare for a Lifetime of Awe-Inspiring Advent...    1.0   \n",
       "1253346  This 2020 Diary/Planner has one week per 2 pag...    1.0   \n",
       "1253347  This special re-print edition of James A. Crui...    1.0   \n",
       "1253348  Good western riding doesn't just happen. J.P. ...    2.0   \n",
       "1253349  This complete guide tells how to develop the h...    2.0   \n",
       "\n",
       "                    id                    image-checksum  \\\n",
       "0        9781840189070  97c8e71f2ec114b34f243074d2091077   \n",
       "1        9780008352516  39c0422c00be90fb9258dd6df9068b1e   \n",
       "2        9780553819229  bed4d5ee9d3240303ff355e4e383cb47   \n",
       "3        9780571297931  d04552f52c16c90db5511e4f76e78694   \n",
       "4        9781444762082  4be783fe835efc596d95732878612663   \n",
       "...                ...                               ...   \n",
       "1253345  9780899979588  8bdeb6c67d511cf28f3bc43ed27d43de   \n",
       "1253346  9781711791968  d9f083c9c171c71b1df27f6dc2d66ba1   \n",
       "1253347  9781792858017  98d28c0af6a2b740ba009490a30d17ed   \n",
       "1253348  9780876059821  cafe5abe83e39958c776c1f7fb2d93e6   \n",
       "1253349  9780876059654  ffe175c4bc0e42ddee01bf42d0ed626e   \n",
       "\n",
       "                                                image-path  \\\n",
       "0        full/c/5/2/c529152ea1246c0cb17d6574d302eae6d2e...   \n",
       "1        full/e/e/a/eea0ff6b6f1882d1862c711a2008e3c35d3...   \n",
       "2        full/0/a/1/0a1870d010b9ad272d5b20425b56e449eac...   \n",
       "3        full/7/5/3/753715be3dcda52b44ac9b14bce4a5258ec...   \n",
       "4        full/9/2/a/92a8415be732a03c7e7c2fbe4085edfcec5...   \n",
       "...                                                    ...   \n",
       "1253345  full/6/2/e/62e74b7b263f06fe57f053521c7a958740e...   \n",
       "1253346  full/4/d/4/4d4766e368dc599bf375c320460042c36b8...   \n",
       "1253347  full/9/e/7/9e7db64b6b3eb2626731745beb513c2a3db...   \n",
       "1253348  full/d/2/c/d2c178a62b1e98158abdb695678ae8b8238...   \n",
       "1253349  full/6/0/b/60b15d03d09fe2ffc1316d24c28f373838f...   \n",
       "\n",
       "                                                 image-url      isbn10  \\\n",
       "0        https://d1w7fb2mkkr3kw.cloudfront.net/assets/i...  184018907X   \n",
       "1        https://d1w7fb2mkkr3kw.cloudfront.net/assets/i...     8352518   \n",
       "2        https://d1w7fb2mkkr3kw.cloudfront.net/assets/i...   553819224   \n",
       "3        https://d1w7fb2mkkr3kw.cloudfront.net/assets/i...   571297935   \n",
       "4        https://d1w7fb2mkkr3kw.cloudfront.net/assets/i...  1444762087   \n",
       "...                                                    ...         ...   \n",
       "1253345  https://d1w7fb2mkkr3kw.cloudfront.net/assets/i...   899979580   \n",
       "1253346  https://d1w7fb2mkkr3kw.cloudfront.net/assets/i...  1711791962   \n",
       "1253347  https://d1w7fb2mkkr3kw.cloudfront.net/assets/i...  1792858019   \n",
       "1253348  https://d1w7fb2mkkr3kw.cloudfront.net/assets/i...   876059825   \n",
       "1253349  https://d1w7fb2mkkr3kw.cloudfront.net/assets/i...   876059655   \n",
       "\n",
       "                isbn13 lang publication-date  \\\n",
       "0        9781840189070   en       2004-10-14   \n",
       "1        9780008352516   en       2019-06-18   \n",
       "2        9780553819229   en       2015-03-18   \n",
       "3        9780571297931   en       2016-05-05   \n",
       "4        9781444762082   en       2014-05-08   \n",
       "...                ...  ...              ...   \n",
       "1253345  9780899979588   en       2020-11-12   \n",
       "1253346  9781711791968   en       2019-11-25   \n",
       "1253347  9781792858017   en       2018-12-28   \n",
       "1253348  9780876059821   en       1995-04-12   \n",
       "1253349  9780876059654   en       1993-10-01   \n",
       "\n",
       "                                                     title  \\\n",
       "0        Soldier Five : The Real Truth About The Bravo ...   \n",
       "1                           The Hidden Power of F*cking Up   \n",
       "2                                         The Grand Design   \n",
       "3                    1,227 QI Facts To Blow Your Socks Off   \n",
       "4        The 100 Most Pointless Arguments in the World ...   \n",
       "...                                                    ...   \n",
       "1253345  Backpacking California : Mountain, Foothill, C...   \n",
       "1253346  2020 : Diary, Weekly Planner, Organiser, Year ...   \n",
       "1253347                               Canoeing and Camping   \n",
       "1253348  The Complete Guide to Western Horsemanship (Cl...   \n",
       "1253349  Show Ring Success : A Rider's Guide to Winning...   \n",
       "\n",
       "                                                       url  \\\n",
       "0                  /Soldier-Five-Mike-Coburn/9781840189070   \n",
       "1          /Hidden-Power-F-cking-Up-Try-Guys/9780008352516   \n",
       "2             /Grand-Design-Leonard-Mlodinow/9780553819229   \n",
       "3        /1-227-QI-Facts-Blow-Your-Socks-Off-John-Lloyd...   \n",
       "4        /100-Most-Pointless-Arguments-World-Alexander-...   \n",
       "...                                                    ...   \n",
       "1253345  /Backpacking-California-Wilderness-Press/97808...   \n",
       "1253346             /2020-Annie-Mac-Journals/9781711791968   \n",
       "1253347   /Canoeing-Camping-James-Cruikshank/9781792858017   \n",
       "1253348  /Complete-Guide-Western-Horsemanship-Cloth-For...   \n",
       "1253349  /Show-Ring-Success-Kathleen-Obenland/978087605...   \n",
       "\n",
       "                                                      text  Genre  class  \n",
       "0        Soldier Five : The Real Truth About The Bravo ...  Other    1.0  \n",
       "1        The Hidden Power of F*cking Up The Try Guys de...  Other    4.0  \n",
       "2        The Grand Design When and how did the universe...  Other    4.0  \n",
       "3        1,227 QI Facts To Blow Your Socks Off Did you ...  Other    4.0  \n",
       "4        The 100 Most Pointless Arguments in the World ...  Other    1.0  \n",
       "...                                                    ...    ...    ...  \n",
       "1253345  Backpacking California : Mountain, Foothill, C...  Other    4.0  \n",
       "1253346  2020 : Diary, Weekly Planner, Organiser, Year ...  Other    4.0  \n",
       "1253347  Canoeing and Camping This special re-print edi...  Other    4.0  \n",
       "1253348  The Complete Guide to Western Horsemanship (Cl...  Other    4.0  \n",
       "1253349  Show Ring Success : A Rider's Guide to Winning...  Other    4.0  \n",
       "\n",
       "[1253350 rows x 18 columns]"
      ]
     },
     "execution_count": 88,
     "metadata": {},
     "output_type": "execute_result"
    }
   ],
   "source": [
    "pd.read_csv(\"oth_pred2.csv\", low_memory=True)"
   ]
  },
  {
   "cell_type": "code",
   "execution_count": 85,
   "metadata": {},
   "outputs": [
    {
     "data": {
      "text/plain": [
       "authors                     object\n",
       "categories                  object\n",
       "description                 object\n",
       "format                     float64\n",
       "id                           int64\n",
       "image-checksum              object\n",
       "image-path                  object\n",
       "image-url                   object\n",
       "isbn10                      object\n",
       "isbn13                       int64\n",
       "lang                        object\n",
       "publication-date    datetime64[ns]\n",
       "title                       object\n",
       "url                         object\n",
       "text                        object\n",
       "Genre                       object\n",
       "class                        int32\n",
       "dtype: object"
      ]
     },
     "execution_count": 85,
     "metadata": {},
     "output_type": "execute_result"
    }
   ],
   "source": [
    "pd.read_pickle('oth_pred2.p').dtypes"
   ]
  },
  {
   "cell_type": "code",
   "execution_count": 51,
   "metadata": {},
   "outputs": [],
   "source": [
    "o_pred = other.join(pd.DataFrame(pred, columns=[\"class\"]))\n",
    "\n",
    "o_pred.to_csv(\"oth_pred.csv\")"
   ]
  },
  {
   "cell_type": "markdown",
   "metadata": {},
   "source": [
    "### other\n"
   ]
  },
  {
   "cell_type": "code",
   "execution_count": 5,
   "metadata": {},
   "outputs": [],
   "source": [
    "\n",
    "def re_blob(row):\n",
    "    return \" \".join(row[\"no_stopwords\"])"
   ]
  },
  {
   "cell_type": "code",
   "execution_count": 7,
   "metadata": {},
   "outputs": [],
   "source": [
    "def fix_lemmatized(row):\n",
    "    fixed = row.strip(\"[]\").replace(\"'\", \"\").replace(\",\", \"\").split()\n",
    "    return fixed"
   ]
  },
  {
   "cell_type": "code",
   "execution_count": 6,
   "metadata": {},
   "outputs": [],
   "source": [
    "text = pd.read_csv(\"other_nostopwords.cvs\").drop(columns=\"Unnamed: 0\")"
   ]
  },
  {
   "cell_type": "code",
   "execution_count": 8,
   "metadata": {},
   "outputs": [],
   "source": [
    "text[\"no_stopwords\"] = text[\"no_stopwords\"].astype('str').apply(fix_lemmatized)"
   ]
  },
  {
   "cell_type": "code",
   "execution_count": 10,
   "metadata": {},
   "outputs": [],
   "source": [
    "text[\"clean_blob\"] =  text.apply(re_blob, axis = 1)"
   ]
  },
  {
   "cell_type": "code",
   "execution_count": 11,
   "metadata": {},
   "outputs": [
    {
     "data": {
      "text/plain": [
       "CountVectorizer(max_features=10000)"
      ]
     },
     "execution_count": 11,
     "metadata": {},
     "output_type": "execute_result"
    }
   ],
   "source": [
    "bow_vct = CountVectorizer(max_features=10000)\n",
    "\n",
    "bow_vct.fit(text[\"clean_blob\"])"
   ]
  },
  {
   "cell_type": "code",
   "execution_count": 12,
   "metadata": {},
   "outputs": [],
   "source": [
    "X = bow_vct.transform(text[\"clean_blob\"]).toarray()\n"
   ]
  },
  {
   "cell_type": "code",
   "execution_count": 14,
   "metadata": {},
   "outputs": [],
   "source": [
    "other_df = pd.DataFrame(X, columns=bow_vct.get_feature_names_out())"
   ]
  },
  {
   "cell_type": "code",
   "execution_count": 15,
   "metadata": {},
   "outputs": [
    {
     "data": {
      "text/plain": [
       "KMeans(n_clusters=5)"
      ]
     },
     "execution_count": 15,
     "metadata": {},
     "output_type": "execute_result"
    }
   ],
   "source": [
    "from sklearn.cluster import KMeans\n",
    "\n",
    "km = KMeans(n_clusters=5)\n",
    "\n",
    "km.fit(other_df.sample(n=100000))"
   ]
  },
  {
   "cell_type": "code",
   "execution_count": 16,
   "metadata": {},
   "outputs": [],
   "source": [
    "pred = km.predict(other_df)"
   ]
  },
  {
   "cell_type": "code",
   "execution_count": 58,
   "metadata": {},
   "outputs": [
    {
     "name": "stderr",
     "output_type": "stream",
     "text": [
      "/var/folders/22/z5s1hrts7vscwhvpw0jtj1cr0000gn/T/ipykernel_5653/3282203263.py:1: SettingWithCopyWarning: \n",
      "A value is trying to be set on a copy of a slice from a DataFrame.\n",
      "Try using .loc[row_indexer,col_indexer] = value instead\n",
      "\n",
      "See the caveats in the documentation: https://pandas.pydata.org/pandas-docs/stable/user_guide/indexing.html#returning-a-view-versus-a-copy\n",
      "  other['class'] = pred\n"
     ]
    }
   ],
   "source": [
    "other['class'] = pred"
   ]
  },
  {
   "cell_type": "code",
   "execution_count": 59,
   "metadata": {},
   "outputs": [
    {
     "data": {
      "text/html": [
       "<div>\n",
       "<style scoped>\n",
       "    .dataframe tbody tr th:only-of-type {\n",
       "        vertical-align: middle;\n",
       "    }\n",
       "\n",
       "    .dataframe tbody tr th {\n",
       "        vertical-align: top;\n",
       "    }\n",
       "\n",
       "    .dataframe thead th {\n",
       "        text-align: right;\n",
       "    }\n",
       "</style>\n",
       "<table border=\"1\" class=\"dataframe\">\n",
       "  <thead>\n",
       "    <tr style=\"text-align: right;\">\n",
       "      <th></th>\n",
       "      <th>authors</th>\n",
       "      <th>categories</th>\n",
       "      <th>description</th>\n",
       "      <th>format</th>\n",
       "      <th>id</th>\n",
       "      <th>image-checksum</th>\n",
       "      <th>image-path</th>\n",
       "      <th>image-url</th>\n",
       "      <th>isbn10</th>\n",
       "      <th>isbn13</th>\n",
       "      <th>lang</th>\n",
       "      <th>publication-date</th>\n",
       "      <th>title</th>\n",
       "      <th>url</th>\n",
       "      <th>text</th>\n",
       "      <th>Genre</th>\n",
       "      <th>class</th>\n",
       "    </tr>\n",
       "  </thead>\n",
       "  <tbody>\n",
       "    <tr>\n",
       "      <th>0</th>\n",
       "      <td>[1]</td>\n",
       "      <td>[214, 220, 237, 2646, 2647, 2659, 2660, 2679]</td>\n",
       "      <td>SOLDIER FIVE is an elite soldier's explosive m...</td>\n",
       "      <td>1.0</td>\n",
       "      <td>9781840189070</td>\n",
       "      <td>97c8e71f2ec114b34f243074d2091077</td>\n",
       "      <td>full/c/5/2/c529152ea1246c0cb17d6574d302eae6d2e...</td>\n",
       "      <td>https://d1w7fb2mkkr3kw.cloudfront.net/assets/i...</td>\n",
       "      <td>184018907X</td>\n",
       "      <td>9781840189070</td>\n",
       "      <td>en</td>\n",
       "      <td>2004-10-14</td>\n",
       "      <td>Soldier Five : The Real Truth About The Bravo ...</td>\n",
       "      <td>/Soldier-Five-Mike-Coburn/9781840189070</td>\n",
       "      <td>Soldier Five : The Real Truth About The Bravo ...</td>\n",
       "      <td>Other</td>\n",
       "      <td>3</td>\n",
       "    </tr>\n",
       "    <tr>\n",
       "      <th>4</th>\n",
       "      <td>[9]</td>\n",
       "      <td>[2813, 2980]</td>\n",
       "      <td>The Try Guys deliver their first book-an inspi...</td>\n",
       "      <td>2.0</td>\n",
       "      <td>9780008352516</td>\n",
       "      <td>39c0422c00be90fb9258dd6df9068b1e</td>\n",
       "      <td>full/e/e/a/eea0ff6b6f1882d1862c711a2008e3c35d3...</td>\n",
       "      <td>https://d1w7fb2mkkr3kw.cloudfront.net/assets/i...</td>\n",
       "      <td>8352518</td>\n",
       "      <td>9780008352516</td>\n",
       "      <td>en</td>\n",
       "      <td>2019-06-18</td>\n",
       "      <td>The Hidden Power of F*cking Up</td>\n",
       "      <td>/Hidden-Power-F-cking-Up-Try-Guys/9780008352516</td>\n",
       "      <td>The Hidden Power of F*cking Up The Try Guys de...</td>\n",
       "      <td>Other</td>\n",
       "      <td>0</td>\n",
       "    </tr>\n",
       "    <tr>\n",
       "      <th>5</th>\n",
       "      <td>[10, 11]</td>\n",
       "      <td>[1520, 1532]</td>\n",
       "      <td>When and how did the universe begin? Why are w...</td>\n",
       "      <td>1.0</td>\n",
       "      <td>9780553819229</td>\n",
       "      <td>bed4d5ee9d3240303ff355e4e383cb47</td>\n",
       "      <td>full/0/a/1/0a1870d010b9ad272d5b20425b56e449eac...</td>\n",
       "      <td>https://d1w7fb2mkkr3kw.cloudfront.net/assets/i...</td>\n",
       "      <td>553819224</td>\n",
       "      <td>9780553819229</td>\n",
       "      <td>en</td>\n",
       "      <td>2015-03-18</td>\n",
       "      <td>The Grand Design</td>\n",
       "      <td>/Grand-Design-Leonard-Mlodinow/9780553819229</td>\n",
       "      <td>The Grand Design When and how did the universe...</td>\n",
       "      <td>Other</td>\n",
       "      <td>0</td>\n",
       "    </tr>\n",
       "    <tr>\n",
       "      <th>6</th>\n",
       "      <td>[6, 7, 8]</td>\n",
       "      <td>[377, 2978, 2980]</td>\n",
       "      <td>Did you know that: cows moo in regional accent...</td>\n",
       "      <td>1.0</td>\n",
       "      <td>9780571297931</td>\n",
       "      <td>d04552f52c16c90db5511e4f76e78694</td>\n",
       "      <td>full/7/5/3/753715be3dcda52b44ac9b14bce4a5258ec...</td>\n",
       "      <td>https://d1w7fb2mkkr3kw.cloudfront.net/assets/i...</td>\n",
       "      <td>571297935</td>\n",
       "      <td>9780571297931</td>\n",
       "      <td>en</td>\n",
       "      <td>2016-05-05</td>\n",
       "      <td>1,227 QI Facts To Blow Your Socks Off</td>\n",
       "      <td>/1-227-QI-Facts-Blow-Your-Socks-Off-John-Lloyd...</td>\n",
       "      <td>1,227 QI Facts To Blow Your Socks Off Did you ...</td>\n",
       "      <td>Other</td>\n",
       "      <td>0</td>\n",
       "    </tr>\n",
       "    <tr>\n",
       "      <th>7</th>\n",
       "      <td>[12, 13]</td>\n",
       "      <td>[2980]</td>\n",
       "      <td>We've all had them, those pointless arguments ...</td>\n",
       "      <td>1.0</td>\n",
       "      <td>9781444762082</td>\n",
       "      <td>4be783fe835efc596d95732878612663</td>\n",
       "      <td>full/9/2/a/92a8415be732a03c7e7c2fbe4085edfcec5...</td>\n",
       "      <td>https://d1w7fb2mkkr3kw.cloudfront.net/assets/i...</td>\n",
       "      <td>1444762087</td>\n",
       "      <td>9781444762082</td>\n",
       "      <td>en</td>\n",
       "      <td>2014-05-08</td>\n",
       "      <td>The 100 Most Pointless Arguments in the World ...</td>\n",
       "      <td>/100-Most-Pointless-Arguments-World-Alexander-...</td>\n",
       "      <td>The 100 Most Pointless Arguments in the World ...</td>\n",
       "      <td>Other</td>\n",
       "      <td>3</td>\n",
       "    </tr>\n",
       "    <tr>\n",
       "      <th>...</th>\n",
       "      <td>...</td>\n",
       "      <td>...</td>\n",
       "      <td>...</td>\n",
       "      <td>...</td>\n",
       "      <td>...</td>\n",
       "      <td>...</td>\n",
       "      <td>...</td>\n",
       "      <td>...</td>\n",
       "      <td>...</td>\n",
       "      <td>...</td>\n",
       "      <td>...</td>\n",
       "      <td>...</td>\n",
       "      <td>...</td>\n",
       "      <td>...</td>\n",
       "      <td>...</td>\n",
       "      <td>...</td>\n",
       "      <td>...</td>\n",
       "    </tr>\n",
       "    <tr>\n",
       "      <th>1109369</th>\n",
       "      <td>[483284]</td>\n",
       "      <td>[2770, 3092, 3100, 3101]</td>\n",
       "      <td>Prepare for a Lifetime of Awe-Inspiring Advent...</td>\n",
       "      <td>1.0</td>\n",
       "      <td>9780899979588</td>\n",
       "      <td>8bdeb6c67d511cf28f3bc43ed27d43de</td>\n",
       "      <td>full/6/2/e/62e74b7b263f06fe57f053521c7a958740e...</td>\n",
       "      <td>https://d1w7fb2mkkr3kw.cloudfront.net/assets/i...</td>\n",
       "      <td>899979580</td>\n",
       "      <td>9780899979588</td>\n",
       "      <td>en</td>\n",
       "      <td>2020-11-12</td>\n",
       "      <td>Backpacking California : Mountain, Foothill, C...</td>\n",
       "      <td>/Backpacking-California-Wilderness-Press/97808...</td>\n",
       "      <td>Backpacking California : Mountain, Foothill, C...</td>\n",
       "      <td>Other</td>\n",
       "      <td>0</td>\n",
       "    </tr>\n",
       "    <tr>\n",
       "      <th>1109379</th>\n",
       "      <td>[336369]</td>\n",
       "      <td>[3045, 3054, 3068, 3086]</td>\n",
       "      <td>This 2020 Diary/Planner has one week per 2 pag...</td>\n",
       "      <td>1.0</td>\n",
       "      <td>9781711791968</td>\n",
       "      <td>d9f083c9c171c71b1df27f6dc2d66ba1</td>\n",
       "      <td>full/4/d/4/4d4766e368dc599bf375c320460042c36b8...</td>\n",
       "      <td>https://d1w7fb2mkkr3kw.cloudfront.net/assets/i...</td>\n",
       "      <td>1711791962</td>\n",
       "      <td>9781711791968</td>\n",
       "      <td>en</td>\n",
       "      <td>2019-11-25</td>\n",
       "      <td>2020 : Diary, Weekly Planner, Organiser, Year ...</td>\n",
       "      <td>/2020-Annie-Mac-Journals/9781711791968</td>\n",
       "      <td>2020 : Diary, Weekly Planner, Organiser, Year ...</td>\n",
       "      <td>Other</td>\n",
       "      <td>0</td>\n",
       "    </tr>\n",
       "    <tr>\n",
       "      <th>1109380</th>\n",
       "      <td>[29792, 654019]</td>\n",
       "      <td>[3096]</td>\n",
       "      <td>This special re-print edition of James A. Crui...</td>\n",
       "      <td>1.0</td>\n",
       "      <td>9781792858017</td>\n",
       "      <td>98d28c0af6a2b740ba009490a30d17ed</td>\n",
       "      <td>full/9/e/7/9e7db64b6b3eb2626731745beb513c2a3db...</td>\n",
       "      <td>https://d1w7fb2mkkr3kw.cloudfront.net/assets/i...</td>\n",
       "      <td>1792858019</td>\n",
       "      <td>9781792858017</td>\n",
       "      <td>en</td>\n",
       "      <td>2018-12-28</td>\n",
       "      <td>Canoeing and Camping</td>\n",
       "      <td>/Canoeing-Camping-James-Cruikshank/9781792858017</td>\n",
       "      <td>Canoeing and Camping This special re-print edi...</td>\n",
       "      <td>Other</td>\n",
       "      <td>0</td>\n",
       "    </tr>\n",
       "    <tr>\n",
       "      <th>1109381</th>\n",
       "      <td>[654020]</td>\n",
       "      <td>[3054, 3056]</td>\n",
       "      <td>Good western riding doesn't just happen. J.P. ...</td>\n",
       "      <td>2.0</td>\n",
       "      <td>9780876059821</td>\n",
       "      <td>cafe5abe83e39958c776c1f7fb2d93e6</td>\n",
       "      <td>full/d/2/c/d2c178a62b1e98158abdb695678ae8b8238...</td>\n",
       "      <td>https://d1w7fb2mkkr3kw.cloudfront.net/assets/i...</td>\n",
       "      <td>876059825</td>\n",
       "      <td>9780876059821</td>\n",
       "      <td>en</td>\n",
       "      <td>1995-04-12</td>\n",
       "      <td>The Complete Guide to Western Horsemanship (Cl...</td>\n",
       "      <td>/Complete-Guide-Western-Horsemanship-Cloth-For...</td>\n",
       "      <td>The Complete Guide to Western Horsemanship (Cl...</td>\n",
       "      <td>Other</td>\n",
       "      <td>0</td>\n",
       "    </tr>\n",
       "    <tr>\n",
       "      <th>1109382</th>\n",
       "      <td>[654021]</td>\n",
       "      <td>[3002, 3055, 3056]</td>\n",
       "      <td>This complete guide tells how to develop the h...</td>\n",
       "      <td>2.0</td>\n",
       "      <td>9780876059654</td>\n",
       "      <td>ffe175c4bc0e42ddee01bf42d0ed626e</td>\n",
       "      <td>full/6/0/b/60b15d03d09fe2ffc1316d24c28f373838f...</td>\n",
       "      <td>https://d1w7fb2mkkr3kw.cloudfront.net/assets/i...</td>\n",
       "      <td>876059655</td>\n",
       "      <td>9780876059654</td>\n",
       "      <td>en</td>\n",
       "      <td>1993-10-01</td>\n",
       "      <td>Show Ring Success : A Rider's Guide to Winning...</td>\n",
       "      <td>/Show-Ring-Success-Kathleen-Obenland/978087605...</td>\n",
       "      <td>Show Ring Success : A Rider's Guide to Winning...</td>\n",
       "      <td>Other</td>\n",
       "      <td>0</td>\n",
       "    </tr>\n",
       "  </tbody>\n",
       "</table>\n",
       "<p>458663 rows × 17 columns</p>\n",
       "</div>"
      ],
      "text/plain": [
       "                 authors                                     categories  \\\n",
       "0                    [1]  [214, 220, 237, 2646, 2647, 2659, 2660, 2679]   \n",
       "4                    [9]                                   [2813, 2980]   \n",
       "5               [10, 11]                                   [1520, 1532]   \n",
       "6              [6, 7, 8]                              [377, 2978, 2980]   \n",
       "7               [12, 13]                                         [2980]   \n",
       "...                  ...                                            ...   \n",
       "1109369         [483284]                       [2770, 3092, 3100, 3101]   \n",
       "1109379         [336369]                       [3045, 3054, 3068, 3086]   \n",
       "1109380  [29792, 654019]                                         [3096]   \n",
       "1109381         [654020]                                   [3054, 3056]   \n",
       "1109382         [654021]                             [3002, 3055, 3056]   \n",
       "\n",
       "                                               description  format  \\\n",
       "0        SOLDIER FIVE is an elite soldier's explosive m...     1.0   \n",
       "4        The Try Guys deliver their first book-an inspi...     2.0   \n",
       "5        When and how did the universe begin? Why are w...     1.0   \n",
       "6        Did you know that: cows moo in regional accent...     1.0   \n",
       "7        We've all had them, those pointless arguments ...     1.0   \n",
       "...                                                    ...     ...   \n",
       "1109369  Prepare for a Lifetime of Awe-Inspiring Advent...     1.0   \n",
       "1109379  This 2020 Diary/Planner has one week per 2 pag...     1.0   \n",
       "1109380  This special re-print edition of James A. Crui...     1.0   \n",
       "1109381  Good western riding doesn't just happen. J.P. ...     2.0   \n",
       "1109382  This complete guide tells how to develop the h...     2.0   \n",
       "\n",
       "                    id                    image-checksum  \\\n",
       "0        9781840189070  97c8e71f2ec114b34f243074d2091077   \n",
       "4        9780008352516  39c0422c00be90fb9258dd6df9068b1e   \n",
       "5        9780553819229  bed4d5ee9d3240303ff355e4e383cb47   \n",
       "6        9780571297931  d04552f52c16c90db5511e4f76e78694   \n",
       "7        9781444762082  4be783fe835efc596d95732878612663   \n",
       "...                ...                               ...   \n",
       "1109369  9780899979588  8bdeb6c67d511cf28f3bc43ed27d43de   \n",
       "1109379  9781711791968  d9f083c9c171c71b1df27f6dc2d66ba1   \n",
       "1109380  9781792858017  98d28c0af6a2b740ba009490a30d17ed   \n",
       "1109381  9780876059821  cafe5abe83e39958c776c1f7fb2d93e6   \n",
       "1109382  9780876059654  ffe175c4bc0e42ddee01bf42d0ed626e   \n",
       "\n",
       "                                                image-path  \\\n",
       "0        full/c/5/2/c529152ea1246c0cb17d6574d302eae6d2e...   \n",
       "4        full/e/e/a/eea0ff6b6f1882d1862c711a2008e3c35d3...   \n",
       "5        full/0/a/1/0a1870d010b9ad272d5b20425b56e449eac...   \n",
       "6        full/7/5/3/753715be3dcda52b44ac9b14bce4a5258ec...   \n",
       "7        full/9/2/a/92a8415be732a03c7e7c2fbe4085edfcec5...   \n",
       "...                                                    ...   \n",
       "1109369  full/6/2/e/62e74b7b263f06fe57f053521c7a958740e...   \n",
       "1109379  full/4/d/4/4d4766e368dc599bf375c320460042c36b8...   \n",
       "1109380  full/9/e/7/9e7db64b6b3eb2626731745beb513c2a3db...   \n",
       "1109381  full/d/2/c/d2c178a62b1e98158abdb695678ae8b8238...   \n",
       "1109382  full/6/0/b/60b15d03d09fe2ffc1316d24c28f373838f...   \n",
       "\n",
       "                                                 image-url      isbn10  \\\n",
       "0        https://d1w7fb2mkkr3kw.cloudfront.net/assets/i...  184018907X   \n",
       "4        https://d1w7fb2mkkr3kw.cloudfront.net/assets/i...     8352518   \n",
       "5        https://d1w7fb2mkkr3kw.cloudfront.net/assets/i...   553819224   \n",
       "6        https://d1w7fb2mkkr3kw.cloudfront.net/assets/i...   571297935   \n",
       "7        https://d1w7fb2mkkr3kw.cloudfront.net/assets/i...  1444762087   \n",
       "...                                                    ...         ...   \n",
       "1109369  https://d1w7fb2mkkr3kw.cloudfront.net/assets/i...   899979580   \n",
       "1109379  https://d1w7fb2mkkr3kw.cloudfront.net/assets/i...  1711791962   \n",
       "1109380  https://d1w7fb2mkkr3kw.cloudfront.net/assets/i...  1792858019   \n",
       "1109381  https://d1w7fb2mkkr3kw.cloudfront.net/assets/i...   876059825   \n",
       "1109382  https://d1w7fb2mkkr3kw.cloudfront.net/assets/i...   876059655   \n",
       "\n",
       "                isbn13 lang publication-date  \\\n",
       "0        9781840189070   en       2004-10-14   \n",
       "4        9780008352516   en       2019-06-18   \n",
       "5        9780553819229   en       2015-03-18   \n",
       "6        9780571297931   en       2016-05-05   \n",
       "7        9781444762082   en       2014-05-08   \n",
       "...                ...  ...              ...   \n",
       "1109369  9780899979588   en       2020-11-12   \n",
       "1109379  9781711791968   en       2019-11-25   \n",
       "1109380  9781792858017   en       2018-12-28   \n",
       "1109381  9780876059821   en       1995-04-12   \n",
       "1109382  9780876059654   en       1993-10-01   \n",
       "\n",
       "                                                     title  \\\n",
       "0        Soldier Five : The Real Truth About The Bravo ...   \n",
       "4                           The Hidden Power of F*cking Up   \n",
       "5                                         The Grand Design   \n",
       "6                    1,227 QI Facts To Blow Your Socks Off   \n",
       "7        The 100 Most Pointless Arguments in the World ...   \n",
       "...                                                    ...   \n",
       "1109369  Backpacking California : Mountain, Foothill, C...   \n",
       "1109379  2020 : Diary, Weekly Planner, Organiser, Year ...   \n",
       "1109380                               Canoeing and Camping   \n",
       "1109381  The Complete Guide to Western Horsemanship (Cl...   \n",
       "1109382  Show Ring Success : A Rider's Guide to Winning...   \n",
       "\n",
       "                                                       url  \\\n",
       "0                  /Soldier-Five-Mike-Coburn/9781840189070   \n",
       "4          /Hidden-Power-F-cking-Up-Try-Guys/9780008352516   \n",
       "5             /Grand-Design-Leonard-Mlodinow/9780553819229   \n",
       "6        /1-227-QI-Facts-Blow-Your-Socks-Off-John-Lloyd...   \n",
       "7        /100-Most-Pointless-Arguments-World-Alexander-...   \n",
       "...                                                    ...   \n",
       "1109369  /Backpacking-California-Wilderness-Press/97808...   \n",
       "1109379             /2020-Annie-Mac-Journals/9781711791968   \n",
       "1109380   /Canoeing-Camping-James-Cruikshank/9781792858017   \n",
       "1109381  /Complete-Guide-Western-Horsemanship-Cloth-For...   \n",
       "1109382  /Show-Ring-Success-Kathleen-Obenland/978087605...   \n",
       "\n",
       "                                                      text  Genre  class  \n",
       "0        Soldier Five : The Real Truth About The Bravo ...  Other      3  \n",
       "4        The Hidden Power of F*cking Up The Try Guys de...  Other      0  \n",
       "5        The Grand Design When and how did the universe...  Other      0  \n",
       "6        1,227 QI Facts To Blow Your Socks Off Did you ...  Other      0  \n",
       "7        The 100 Most Pointless Arguments in the World ...  Other      3  \n",
       "...                                                    ...    ...    ...  \n",
       "1109369  Backpacking California : Mountain, Foothill, C...  Other      0  \n",
       "1109379  2020 : Diary, Weekly Planner, Organiser, Year ...  Other      0  \n",
       "1109380  Canoeing and Camping This special re-print edi...  Other      0  \n",
       "1109381  The Complete Guide to Western Horsemanship (Cl...  Other      0  \n",
       "1109382  Show Ring Success : A Rider's Guide to Winning...  Other      0  \n",
       "\n",
       "[458663 rows x 17 columns]"
      ]
     },
     "execution_count": 59,
     "metadata": {},
     "output_type": "execute_result"
    }
   ],
   "source": [
    "other"
   ]
  },
  {
   "cell_type": "code",
   "execution_count": 60,
   "metadata": {},
   "outputs": [],
   "source": [
    "other.to_pickle(\"oth_pred.p\")"
   ]
  },
  {
   "cell_type": "code",
   "execution_count": 61,
   "metadata": {},
   "outputs": [
    {
     "data": {
      "text/html": [
       "<div>\n",
       "<style scoped>\n",
       "    .dataframe tbody tr th:only-of-type {\n",
       "        vertical-align: middle;\n",
       "    }\n",
       "\n",
       "    .dataframe tbody tr th {\n",
       "        vertical-align: top;\n",
       "    }\n",
       "\n",
       "    .dataframe thead th {\n",
       "        text-align: right;\n",
       "    }\n",
       "</style>\n",
       "<table border=\"1\" class=\"dataframe\">\n",
       "  <thead>\n",
       "    <tr style=\"text-align: right;\">\n",
       "      <th></th>\n",
       "      <th>authors</th>\n",
       "      <th>categories</th>\n",
       "      <th>description</th>\n",
       "      <th>format</th>\n",
       "      <th>id</th>\n",
       "      <th>image-checksum</th>\n",
       "      <th>image-path</th>\n",
       "      <th>image-url</th>\n",
       "      <th>isbn10</th>\n",
       "      <th>isbn13</th>\n",
       "      <th>lang</th>\n",
       "      <th>publication-date</th>\n",
       "      <th>title</th>\n",
       "      <th>url</th>\n",
       "      <th>text</th>\n",
       "      <th>Genre</th>\n",
       "      <th>class</th>\n",
       "    </tr>\n",
       "  </thead>\n",
       "  <tbody>\n",
       "    <tr>\n",
       "      <th>0</th>\n",
       "      <td>[1]</td>\n",
       "      <td>[214, 220, 237, 2646, 2647, 2659, 2660, 2679]</td>\n",
       "      <td>SOLDIER FIVE is an elite soldier's explosive m...</td>\n",
       "      <td>1.0</td>\n",
       "      <td>9781840189070</td>\n",
       "      <td>97c8e71f2ec114b34f243074d2091077</td>\n",
       "      <td>full/c/5/2/c529152ea1246c0cb17d6574d302eae6d2e...</td>\n",
       "      <td>https://d1w7fb2mkkr3kw.cloudfront.net/assets/i...</td>\n",
       "      <td>184018907X</td>\n",
       "      <td>9781840189070</td>\n",
       "      <td>en</td>\n",
       "      <td>2004-10-14</td>\n",
       "      <td>Soldier Five : The Real Truth About The Bravo ...</td>\n",
       "      <td>/Soldier-Five-Mike-Coburn/9781840189070</td>\n",
       "      <td>Soldier Five : The Real Truth About The Bravo ...</td>\n",
       "      <td>Other</td>\n",
       "      <td>3</td>\n",
       "    </tr>\n",
       "    <tr>\n",
       "      <th>4</th>\n",
       "      <td>[9]</td>\n",
       "      <td>[2813, 2980]</td>\n",
       "      <td>The Try Guys deliver their first book-an inspi...</td>\n",
       "      <td>2.0</td>\n",
       "      <td>9780008352516</td>\n",
       "      <td>39c0422c00be90fb9258dd6df9068b1e</td>\n",
       "      <td>full/e/e/a/eea0ff6b6f1882d1862c711a2008e3c35d3...</td>\n",
       "      <td>https://d1w7fb2mkkr3kw.cloudfront.net/assets/i...</td>\n",
       "      <td>8352518</td>\n",
       "      <td>9780008352516</td>\n",
       "      <td>en</td>\n",
       "      <td>2019-06-18</td>\n",
       "      <td>The Hidden Power of F*cking Up</td>\n",
       "      <td>/Hidden-Power-F-cking-Up-Try-Guys/9780008352516</td>\n",
       "      <td>The Hidden Power of F*cking Up The Try Guys de...</td>\n",
       "      <td>Other</td>\n",
       "      <td>0</td>\n",
       "    </tr>\n",
       "    <tr>\n",
       "      <th>5</th>\n",
       "      <td>[10, 11]</td>\n",
       "      <td>[1520, 1532]</td>\n",
       "      <td>When and how did the universe begin? Why are w...</td>\n",
       "      <td>1.0</td>\n",
       "      <td>9780553819229</td>\n",
       "      <td>bed4d5ee9d3240303ff355e4e383cb47</td>\n",
       "      <td>full/0/a/1/0a1870d010b9ad272d5b20425b56e449eac...</td>\n",
       "      <td>https://d1w7fb2mkkr3kw.cloudfront.net/assets/i...</td>\n",
       "      <td>553819224</td>\n",
       "      <td>9780553819229</td>\n",
       "      <td>en</td>\n",
       "      <td>2015-03-18</td>\n",
       "      <td>The Grand Design</td>\n",
       "      <td>/Grand-Design-Leonard-Mlodinow/9780553819229</td>\n",
       "      <td>The Grand Design When and how did the universe...</td>\n",
       "      <td>Other</td>\n",
       "      <td>0</td>\n",
       "    </tr>\n",
       "    <tr>\n",
       "      <th>6</th>\n",
       "      <td>[6, 7, 8]</td>\n",
       "      <td>[377, 2978, 2980]</td>\n",
       "      <td>Did you know that: cows moo in regional accent...</td>\n",
       "      <td>1.0</td>\n",
       "      <td>9780571297931</td>\n",
       "      <td>d04552f52c16c90db5511e4f76e78694</td>\n",
       "      <td>full/7/5/3/753715be3dcda52b44ac9b14bce4a5258ec...</td>\n",
       "      <td>https://d1w7fb2mkkr3kw.cloudfront.net/assets/i...</td>\n",
       "      <td>571297935</td>\n",
       "      <td>9780571297931</td>\n",
       "      <td>en</td>\n",
       "      <td>2016-05-05</td>\n",
       "      <td>1,227 QI Facts To Blow Your Socks Off</td>\n",
       "      <td>/1-227-QI-Facts-Blow-Your-Socks-Off-John-Lloyd...</td>\n",
       "      <td>1,227 QI Facts To Blow Your Socks Off Did you ...</td>\n",
       "      <td>Other</td>\n",
       "      <td>0</td>\n",
       "    </tr>\n",
       "    <tr>\n",
       "      <th>7</th>\n",
       "      <td>[12, 13]</td>\n",
       "      <td>[2980]</td>\n",
       "      <td>We've all had them, those pointless arguments ...</td>\n",
       "      <td>1.0</td>\n",
       "      <td>9781444762082</td>\n",
       "      <td>4be783fe835efc596d95732878612663</td>\n",
       "      <td>full/9/2/a/92a8415be732a03c7e7c2fbe4085edfcec5...</td>\n",
       "      <td>https://d1w7fb2mkkr3kw.cloudfront.net/assets/i...</td>\n",
       "      <td>1444762087</td>\n",
       "      <td>9781444762082</td>\n",
       "      <td>en</td>\n",
       "      <td>2014-05-08</td>\n",
       "      <td>The 100 Most Pointless Arguments in the World ...</td>\n",
       "      <td>/100-Most-Pointless-Arguments-World-Alexander-...</td>\n",
       "      <td>The 100 Most Pointless Arguments in the World ...</td>\n",
       "      <td>Other</td>\n",
       "      <td>3</td>\n",
       "    </tr>\n",
       "    <tr>\n",
       "      <th>...</th>\n",
       "      <td>...</td>\n",
       "      <td>...</td>\n",
       "      <td>...</td>\n",
       "      <td>...</td>\n",
       "      <td>...</td>\n",
       "      <td>...</td>\n",
       "      <td>...</td>\n",
       "      <td>...</td>\n",
       "      <td>...</td>\n",
       "      <td>...</td>\n",
       "      <td>...</td>\n",
       "      <td>...</td>\n",
       "      <td>...</td>\n",
       "      <td>...</td>\n",
       "      <td>...</td>\n",
       "      <td>...</td>\n",
       "      <td>...</td>\n",
       "    </tr>\n",
       "    <tr>\n",
       "      <th>1109369</th>\n",
       "      <td>[483284]</td>\n",
       "      <td>[2770, 3092, 3100, 3101]</td>\n",
       "      <td>Prepare for a Lifetime of Awe-Inspiring Advent...</td>\n",
       "      <td>1.0</td>\n",
       "      <td>9780899979588</td>\n",
       "      <td>8bdeb6c67d511cf28f3bc43ed27d43de</td>\n",
       "      <td>full/6/2/e/62e74b7b263f06fe57f053521c7a958740e...</td>\n",
       "      <td>https://d1w7fb2mkkr3kw.cloudfront.net/assets/i...</td>\n",
       "      <td>899979580</td>\n",
       "      <td>9780899979588</td>\n",
       "      <td>en</td>\n",
       "      <td>2020-11-12</td>\n",
       "      <td>Backpacking California : Mountain, Foothill, C...</td>\n",
       "      <td>/Backpacking-California-Wilderness-Press/97808...</td>\n",
       "      <td>Backpacking California : Mountain, Foothill, C...</td>\n",
       "      <td>Other</td>\n",
       "      <td>0</td>\n",
       "    </tr>\n",
       "    <tr>\n",
       "      <th>1109379</th>\n",
       "      <td>[336369]</td>\n",
       "      <td>[3045, 3054, 3068, 3086]</td>\n",
       "      <td>This 2020 Diary/Planner has one week per 2 pag...</td>\n",
       "      <td>1.0</td>\n",
       "      <td>9781711791968</td>\n",
       "      <td>d9f083c9c171c71b1df27f6dc2d66ba1</td>\n",
       "      <td>full/4/d/4/4d4766e368dc599bf375c320460042c36b8...</td>\n",
       "      <td>https://d1w7fb2mkkr3kw.cloudfront.net/assets/i...</td>\n",
       "      <td>1711791962</td>\n",
       "      <td>9781711791968</td>\n",
       "      <td>en</td>\n",
       "      <td>2019-11-25</td>\n",
       "      <td>2020 : Diary, Weekly Planner, Organiser, Year ...</td>\n",
       "      <td>/2020-Annie-Mac-Journals/9781711791968</td>\n",
       "      <td>2020 : Diary, Weekly Planner, Organiser, Year ...</td>\n",
       "      <td>Other</td>\n",
       "      <td>0</td>\n",
       "    </tr>\n",
       "    <tr>\n",
       "      <th>1109380</th>\n",
       "      <td>[29792, 654019]</td>\n",
       "      <td>[3096]</td>\n",
       "      <td>This special re-print edition of James A. Crui...</td>\n",
       "      <td>1.0</td>\n",
       "      <td>9781792858017</td>\n",
       "      <td>98d28c0af6a2b740ba009490a30d17ed</td>\n",
       "      <td>full/9/e/7/9e7db64b6b3eb2626731745beb513c2a3db...</td>\n",
       "      <td>https://d1w7fb2mkkr3kw.cloudfront.net/assets/i...</td>\n",
       "      <td>1792858019</td>\n",
       "      <td>9781792858017</td>\n",
       "      <td>en</td>\n",
       "      <td>2018-12-28</td>\n",
       "      <td>Canoeing and Camping</td>\n",
       "      <td>/Canoeing-Camping-James-Cruikshank/9781792858017</td>\n",
       "      <td>Canoeing and Camping This special re-print edi...</td>\n",
       "      <td>Other</td>\n",
       "      <td>0</td>\n",
       "    </tr>\n",
       "    <tr>\n",
       "      <th>1109381</th>\n",
       "      <td>[654020]</td>\n",
       "      <td>[3054, 3056]</td>\n",
       "      <td>Good western riding doesn't just happen. J.P. ...</td>\n",
       "      <td>2.0</td>\n",
       "      <td>9780876059821</td>\n",
       "      <td>cafe5abe83e39958c776c1f7fb2d93e6</td>\n",
       "      <td>full/d/2/c/d2c178a62b1e98158abdb695678ae8b8238...</td>\n",
       "      <td>https://d1w7fb2mkkr3kw.cloudfront.net/assets/i...</td>\n",
       "      <td>876059825</td>\n",
       "      <td>9780876059821</td>\n",
       "      <td>en</td>\n",
       "      <td>1995-04-12</td>\n",
       "      <td>The Complete Guide to Western Horsemanship (Cl...</td>\n",
       "      <td>/Complete-Guide-Western-Horsemanship-Cloth-For...</td>\n",
       "      <td>The Complete Guide to Western Horsemanship (Cl...</td>\n",
       "      <td>Other</td>\n",
       "      <td>0</td>\n",
       "    </tr>\n",
       "    <tr>\n",
       "      <th>1109382</th>\n",
       "      <td>[654021]</td>\n",
       "      <td>[3002, 3055, 3056]</td>\n",
       "      <td>This complete guide tells how to develop the h...</td>\n",
       "      <td>2.0</td>\n",
       "      <td>9780876059654</td>\n",
       "      <td>ffe175c4bc0e42ddee01bf42d0ed626e</td>\n",
       "      <td>full/6/0/b/60b15d03d09fe2ffc1316d24c28f373838f...</td>\n",
       "      <td>https://d1w7fb2mkkr3kw.cloudfront.net/assets/i...</td>\n",
       "      <td>876059655</td>\n",
       "      <td>9780876059654</td>\n",
       "      <td>en</td>\n",
       "      <td>1993-10-01</td>\n",
       "      <td>Show Ring Success : A Rider's Guide to Winning...</td>\n",
       "      <td>/Show-Ring-Success-Kathleen-Obenland/978087605...</td>\n",
       "      <td>Show Ring Success : A Rider's Guide to Winning...</td>\n",
       "      <td>Other</td>\n",
       "      <td>0</td>\n",
       "    </tr>\n",
       "  </tbody>\n",
       "</table>\n",
       "<p>458663 rows × 17 columns</p>\n",
       "</div>"
      ],
      "text/plain": [
       "                 authors                                     categories  \\\n",
       "0                    [1]  [214, 220, 237, 2646, 2647, 2659, 2660, 2679]   \n",
       "4                    [9]                                   [2813, 2980]   \n",
       "5               [10, 11]                                   [1520, 1532]   \n",
       "6              [6, 7, 8]                              [377, 2978, 2980]   \n",
       "7               [12, 13]                                         [2980]   \n",
       "...                  ...                                            ...   \n",
       "1109369         [483284]                       [2770, 3092, 3100, 3101]   \n",
       "1109379         [336369]                       [3045, 3054, 3068, 3086]   \n",
       "1109380  [29792, 654019]                                         [3096]   \n",
       "1109381         [654020]                                   [3054, 3056]   \n",
       "1109382         [654021]                             [3002, 3055, 3056]   \n",
       "\n",
       "                                               description  format  \\\n",
       "0        SOLDIER FIVE is an elite soldier's explosive m...     1.0   \n",
       "4        The Try Guys deliver their first book-an inspi...     2.0   \n",
       "5        When and how did the universe begin? Why are w...     1.0   \n",
       "6        Did you know that: cows moo in regional accent...     1.0   \n",
       "7        We've all had them, those pointless arguments ...     1.0   \n",
       "...                                                    ...     ...   \n",
       "1109369  Prepare for a Lifetime of Awe-Inspiring Advent...     1.0   \n",
       "1109379  This 2020 Diary/Planner has one week per 2 pag...     1.0   \n",
       "1109380  This special re-print edition of James A. Crui...     1.0   \n",
       "1109381  Good western riding doesn't just happen. J.P. ...     2.0   \n",
       "1109382  This complete guide tells how to develop the h...     2.0   \n",
       "\n",
       "                    id                    image-checksum  \\\n",
       "0        9781840189070  97c8e71f2ec114b34f243074d2091077   \n",
       "4        9780008352516  39c0422c00be90fb9258dd6df9068b1e   \n",
       "5        9780553819229  bed4d5ee9d3240303ff355e4e383cb47   \n",
       "6        9780571297931  d04552f52c16c90db5511e4f76e78694   \n",
       "7        9781444762082  4be783fe835efc596d95732878612663   \n",
       "...                ...                               ...   \n",
       "1109369  9780899979588  8bdeb6c67d511cf28f3bc43ed27d43de   \n",
       "1109379  9781711791968  d9f083c9c171c71b1df27f6dc2d66ba1   \n",
       "1109380  9781792858017  98d28c0af6a2b740ba009490a30d17ed   \n",
       "1109381  9780876059821  cafe5abe83e39958c776c1f7fb2d93e6   \n",
       "1109382  9780876059654  ffe175c4bc0e42ddee01bf42d0ed626e   \n",
       "\n",
       "                                                image-path  \\\n",
       "0        full/c/5/2/c529152ea1246c0cb17d6574d302eae6d2e...   \n",
       "4        full/e/e/a/eea0ff6b6f1882d1862c711a2008e3c35d3...   \n",
       "5        full/0/a/1/0a1870d010b9ad272d5b20425b56e449eac...   \n",
       "6        full/7/5/3/753715be3dcda52b44ac9b14bce4a5258ec...   \n",
       "7        full/9/2/a/92a8415be732a03c7e7c2fbe4085edfcec5...   \n",
       "...                                                    ...   \n",
       "1109369  full/6/2/e/62e74b7b263f06fe57f053521c7a958740e...   \n",
       "1109379  full/4/d/4/4d4766e368dc599bf375c320460042c36b8...   \n",
       "1109380  full/9/e/7/9e7db64b6b3eb2626731745beb513c2a3db...   \n",
       "1109381  full/d/2/c/d2c178a62b1e98158abdb695678ae8b8238...   \n",
       "1109382  full/6/0/b/60b15d03d09fe2ffc1316d24c28f373838f...   \n",
       "\n",
       "                                                 image-url      isbn10  \\\n",
       "0        https://d1w7fb2mkkr3kw.cloudfront.net/assets/i...  184018907X   \n",
       "4        https://d1w7fb2mkkr3kw.cloudfront.net/assets/i...     8352518   \n",
       "5        https://d1w7fb2mkkr3kw.cloudfront.net/assets/i...   553819224   \n",
       "6        https://d1w7fb2mkkr3kw.cloudfront.net/assets/i...   571297935   \n",
       "7        https://d1w7fb2mkkr3kw.cloudfront.net/assets/i...  1444762087   \n",
       "...                                                    ...         ...   \n",
       "1109369  https://d1w7fb2mkkr3kw.cloudfront.net/assets/i...   899979580   \n",
       "1109379  https://d1w7fb2mkkr3kw.cloudfront.net/assets/i...  1711791962   \n",
       "1109380  https://d1w7fb2mkkr3kw.cloudfront.net/assets/i...  1792858019   \n",
       "1109381  https://d1w7fb2mkkr3kw.cloudfront.net/assets/i...   876059825   \n",
       "1109382  https://d1w7fb2mkkr3kw.cloudfront.net/assets/i...   876059655   \n",
       "\n",
       "                isbn13 lang publication-date  \\\n",
       "0        9781840189070   en       2004-10-14   \n",
       "4        9780008352516   en       2019-06-18   \n",
       "5        9780553819229   en       2015-03-18   \n",
       "6        9780571297931   en       2016-05-05   \n",
       "7        9781444762082   en       2014-05-08   \n",
       "...                ...  ...              ...   \n",
       "1109369  9780899979588   en       2020-11-12   \n",
       "1109379  9781711791968   en       2019-11-25   \n",
       "1109380  9781792858017   en       2018-12-28   \n",
       "1109381  9780876059821   en       1995-04-12   \n",
       "1109382  9780876059654   en       1993-10-01   \n",
       "\n",
       "                                                     title  \\\n",
       "0        Soldier Five : The Real Truth About The Bravo ...   \n",
       "4                           The Hidden Power of F*cking Up   \n",
       "5                                         The Grand Design   \n",
       "6                    1,227 QI Facts To Blow Your Socks Off   \n",
       "7        The 100 Most Pointless Arguments in the World ...   \n",
       "...                                                    ...   \n",
       "1109369  Backpacking California : Mountain, Foothill, C...   \n",
       "1109379  2020 : Diary, Weekly Planner, Organiser, Year ...   \n",
       "1109380                               Canoeing and Camping   \n",
       "1109381  The Complete Guide to Western Horsemanship (Cl...   \n",
       "1109382  Show Ring Success : A Rider's Guide to Winning...   \n",
       "\n",
       "                                                       url  \\\n",
       "0                  /Soldier-Five-Mike-Coburn/9781840189070   \n",
       "4          /Hidden-Power-F-cking-Up-Try-Guys/9780008352516   \n",
       "5             /Grand-Design-Leonard-Mlodinow/9780553819229   \n",
       "6        /1-227-QI-Facts-Blow-Your-Socks-Off-John-Lloyd...   \n",
       "7        /100-Most-Pointless-Arguments-World-Alexander-...   \n",
       "...                                                    ...   \n",
       "1109369  /Backpacking-California-Wilderness-Press/97808...   \n",
       "1109379             /2020-Annie-Mac-Journals/9781711791968   \n",
       "1109380   /Canoeing-Camping-James-Cruikshank/9781792858017   \n",
       "1109381  /Complete-Guide-Western-Horsemanship-Cloth-For...   \n",
       "1109382  /Show-Ring-Success-Kathleen-Obenland/978087605...   \n",
       "\n",
       "                                                      text  Genre  class  \n",
       "0        Soldier Five : The Real Truth About The Bravo ...  Other      3  \n",
       "4        The Hidden Power of F*cking Up The Try Guys de...  Other      0  \n",
       "5        The Grand Design When and how did the universe...  Other      0  \n",
       "6        1,227 QI Facts To Blow Your Socks Off Did you ...  Other      0  \n",
       "7        The 100 Most Pointless Arguments in the World ...  Other      3  \n",
       "...                                                    ...    ...    ...  \n",
       "1109369  Backpacking California : Mountain, Foothill, C...  Other      0  \n",
       "1109379  2020 : Diary, Weekly Planner, Organiser, Year ...  Other      0  \n",
       "1109380  Canoeing and Camping This special re-print edi...  Other      0  \n",
       "1109381  The Complete Guide to Western Horsemanship (Cl...  Other      0  \n",
       "1109382  Show Ring Success : A Rider's Guide to Winning...  Other      0  \n",
       "\n",
       "[458663 rows x 17 columns]"
      ]
     },
     "execution_count": 61,
     "metadata": {},
     "output_type": "execute_result"
    }
   ],
   "source": [
    "pd.read_pickle(\"oth_pred.p\")"
   ]
  },
  {
   "cell_type": "markdown",
   "metadata": {},
   "source": [
    "### Social Science and Teaching"
   ]
  },
  {
   "cell_type": "code",
   "execution_count": null,
   "metadata": {},
   "outputs": [],
   "source": [
    "text = pd.read_csv(\"other_nostopwords.cvs\").drop(columns=\"Unnamed: 0\")"
   ]
  },
  {
   "cell_type": "code",
   "execution_count": null,
   "metadata": {},
   "outputs": [],
   "source": [
    "text[\"no_stopwords\"] = text[\"no_stopwords\"].astype('str').apply(fix_lemmatized)\n"
   ]
  },
  {
   "cell_type": "code",
   "execution_count": null,
   "metadata": {},
   "outputs": [],
   "source": [
    "text[\"clean_blob\"] =  text.apply(re_blob, axis = 1)"
   ]
  },
  {
   "cell_type": "code",
   "execution_count": null,
   "metadata": {},
   "outputs": [],
   "source": [
    "bow_vct = CountVectorizer(max_features=10000)\n",
    "\n",
    "bow_vct.fit(text[\"clean_blob\"])"
   ]
  },
  {
   "cell_type": "code",
   "execution_count": null,
   "metadata": {},
   "outputs": [],
   "source": [
    "X = bow_vct.transform(text[\"clean_blob\"]).toarray()"
   ]
  }
 ],
 "metadata": {
  "interpreter": {
   "hash": "5cd968f09b0472a6c28a114207d5f5b74a0d8204df66815beb31ea3aaef9d366"
  },
  "kernelspec": {
   "display_name": "Python 3.9.12 ('finalproject')",
   "language": "python",
   "name": "python3"
  },
  "language_info": {
   "codemirror_mode": {
    "name": "ipython",
    "version": 3
   },
   "file_extension": ".py",
   "mimetype": "text/x-python",
   "name": "python",
   "nbconvert_exporter": "python",
   "pygments_lexer": "ipython3",
   "version": "3.9.12"
  },
  "orig_nbformat": 4
 },
 "nbformat": 4,
 "nbformat_minor": 2
}
